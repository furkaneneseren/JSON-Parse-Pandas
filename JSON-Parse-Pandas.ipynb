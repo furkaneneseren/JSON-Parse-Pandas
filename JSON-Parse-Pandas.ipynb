{
 "cells": [
  {
   "cell_type": "markdown",
   "id": "7b19e96d-7669-42a5-baea-4c7270a9f917",
   "metadata": {},
   "source": [
    "# Get json from json-server"
   ]
  },
  {
   "cell_type": "code",
   "execution_count": 13,
   "id": "307affde-19e2-446c-b838-bd4926d9cc13",
   "metadata": {},
   "outputs": [],
   "source": [
    "import requests"
   ]
  },
  {
   "cell_type": "code",
   "execution_count": 14,
   "id": "7e489b28-7dfc-49de-b962-4fa53d5bcea4",
   "metadata": {},
   "outputs": [],
   "source": [
    "response = requests.get(\"http://localhost:3000/response\").text"
   ]
  },
  {
   "cell_type": "code",
   "execution_count": 15,
   "id": "1a0c931d-90bd-4aa3-be73-1db120cb867c",
   "metadata": {
    "tags": []
   },
   "outputs": [
    {
     "data": {
      "text/plain": [
       "'{\\n  \"users\": [\\n    {\\n      \"id\": 1,\\n      \"created\": \"2022-07-16\",\\n      \"tckn\": \"5178249801\",\\n      \"username\": \"2349600692\",\\n      \"clarification_text\": true,\\n      \"user_agreement\": true,\\n      \"consent_text\": false,\\n      \"field\": []\\n    },\\n    {\\n      \"id\": 2,\\n      \"created\": \"2022-06-25\",\\n      \"tckn\": \"9862687290\",\\n      \"username\": \"2655382030\",\\n      \"clarification_text\": true,\\n      \"user_agreement\": true,\\n      \"consent_text\": true,\\n      \"field\": [\\n        {\\n          \"id\": 1,\\n          \"farm_name\": \"Paget\",\\n          \"lat\": 47.93520072,\\n          \"lng\": 13.710337028,\\n          \"area\": 95.535737494,\\n          \"plant\": \"Waterhyssop\",\\n          \"season_start_date\": \"2022-04-04 09:15:37\",\\n          \"season_end_date\": \"2022-05-15 20:20:36\"\\n        }\\n      ]\\n    },\\n    {\\n      \"id\": 3,\\n      \"created\": \"2022-06-05\",\\n      \"tckn\": \"5730841345\",\\n      \"username\": \"4979548189\",\\n      \"clarification_text\": false,\\n      \"user_agreement\": false,\\n      \"consent_text\": true,\\n      \"field\": [\\n        {\\n          \"id\": 1,\\n          \"farm_name\": \"Parkside\",\\n          \"lat\": 45.287717074,\\n          \"lng\": 58.064253139,\\n          \"area\": 24.12880332,\\n          \"plant\": \"Starhorn\",\\n          \"season_start_date\": \"2022-05-08 17:24:33\",\\n          \"season_end_date\": \"2022-07-29 05:36:34\"\\n        }\\n      ]\\n    },\\n    {\\n      \"id\": 4,\\n      \"created\": \"2022-05-22\",\\n      \"tckn\": \"6701194524\",\\n      \"username\": \"2213833846\",\\n      \"clarification_text\": false,\\n      \"user_agreement\": true,\\n      \"consent_text\": false,\\n      \"field\": []\\n    },\\n    {\\n      \"id\": 5,\\n      \"created\": \"2022-05-18\",\\n      \"tckn\": \"0139000380\",\\n      \"username\": \"4164911712\",\\n      \"clarification_text\": false,\\n      \"user_agreement\": true,\\n      \"consent_text\": true,\\n      \"field\": []\\n    },\\n    {\\n      \"id\": 6,\\n      \"created\": \"2022-07-18\",\\n      \"tckn\": \"3837556891\",\\n      \"username\": \"3179584399\",\\n      \"clarification_text\": true,\\n      \"user_agreement\": true,\\n      \"consent_text\": false,\\n      \"field\": [\\n        {\\n          \"id\": 1,\\n          \"farm_name\": \"3rd\",\\n          \"lat\": 48.529810885,\\n          \"lng\": 38.493641502,\\n          \"area\": 82.89315977,\\n          \"plant\": \"Salinas River Tarweed\",\\n          \"season_start_date\": \"2022-06-19 01:04:36\",\\n          \"season_end_date\": \"2022-07-16 06:14:16\"\\n        }\\n      ]\\n    },\\n    {\\n      \"id\": 7,\\n      \"created\": \"2022-04-24\",\\n      \"tckn\": \"1183755635\",\\n      \"username\": \"2423866368\",\\n      \"clarification_text\": false,\\n      \"user_agreeme'"
      ]
     },
     "execution_count": 15,
     "metadata": {},
     "output_type": "execute_result"
    }
   ],
   "source": [
    "response[0:2500]"
   ]
  },
  {
   "cell_type": "code",
   "execution_count": 16,
   "id": "5144898e-ed39-449b-9d1d-49520c040395",
   "metadata": {},
   "outputs": [],
   "source": [
    "import json"
   ]
  },
  {
   "cell_type": "code",
   "execution_count": 17,
   "id": "a5fa66dc-a6e3-43be-ad98-c8f0c3d24220",
   "metadata": {
    "tags": []
   },
   "outputs": [],
   "source": [
    "response_info = json.loads(response)"
   ]
  },
  {
   "cell_type": "code",
   "execution_count": 18,
   "id": "fabdb99c-046b-4085-9bff-6ad0709bede8",
   "metadata": {},
   "outputs": [
    {
     "data": {
      "text/plain": [
       "dict"
      ]
     },
     "execution_count": 18,
     "metadata": {},
     "output_type": "execute_result"
    }
   ],
   "source": [
    "type(response_info)"
   ]
  },
  {
   "cell_type": "code",
   "execution_count": 19,
   "id": "4c4378fe-12ec-4247-ad5e-f2911878ddf0",
   "metadata": {
    "tags": []
   },
   "outputs": [
    {
     "data": {
      "text/plain": [
       "{'id': 3,\n",
       " 'created': '2022-06-05',\n",
       " 'tckn': '5730841345',\n",
       " 'username': '4979548189',\n",
       " 'clarification_text': False,\n",
       " 'user_agreement': False,\n",
       " 'consent_text': True,\n",
       " 'field': [{'id': 1,\n",
       "   'farm_name': 'Parkside',\n",
       "   'lat': 45.287717074,\n",
       "   'lng': 58.064253139,\n",
       "   'area': 24.12880332,\n",
       "   'plant': 'Starhorn',\n",
       "   'season_start_date': '2022-05-08 17:24:33',\n",
       "   'season_end_date': '2022-07-29 05:36:34'}]}"
      ]
     },
     "execution_count": 19,
     "metadata": {},
     "output_type": "execute_result"
    }
   ],
   "source": [
    "response_info[\"users\"][2]"
   ]
  },
  {
   "cell_type": "code",
   "execution_count": 20,
   "id": "2f327d80-3a69-4916-902d-0626de446025",
   "metadata": {
    "tags": []
   },
   "outputs": [
    {
     "data": {
      "text/plain": [
       "{'id': 3,\n",
       " 'created': '2022-06-18',\n",
       " 'created_amount': 130501,\n",
       " 'demand_gsm': '2074029926',\n",
       " 'city': 'Ono',\n",
       " 'town': '9348 Lunder Trail',\n",
       " 'username': '3888799340',\n",
       " 'tckn': '0449677117'}"
      ]
     },
     "execution_count": 20,
     "metadata": {},
     "output_type": "execute_result"
    }
   ],
   "source": [
    "response_info[\"credits\"][2]"
   ]
  },
  {
   "cell_type": "markdown",
   "id": "a579bb4b-4db4-4a88-a8ed-7e2f3d2335cd",
   "metadata": {},
   "source": [
    "# Transform json data to pandas dataframes."
   ]
  },
  {
   "cell_type": "code",
   "execution_count": 21,
   "id": "b6221ff5-cc3f-4f9e-b88f-c97c15bafbc3",
   "metadata": {},
   "outputs": [],
   "source": [
    "import pandas as pd"
   ]
  },
  {
   "cell_type": "code",
   "execution_count": 22,
   "id": "ef49d320-b902-4ee4-857b-960d3781ee42",
   "metadata": {
    "tags": []
   },
   "outputs": [
    {
     "data": {
      "text/html": [
       "<div>\n",
       "<style scoped>\n",
       "    .dataframe tbody tr th:only-of-type {\n",
       "        vertical-align: middle;\n",
       "    }\n",
       "\n",
       "    .dataframe tbody tr th {\n",
       "        vertical-align: top;\n",
       "    }\n",
       "\n",
       "    .dataframe thead th {\n",
       "        text-align: right;\n",
       "    }\n",
       "</style>\n",
       "<table border=\"1\" class=\"dataframe\">\n",
       "  <thead>\n",
       "    <tr style=\"text-align: right;\">\n",
       "      <th></th>\n",
       "      <th>id</th>\n",
       "      <th>created</th>\n",
       "      <th>tckn</th>\n",
       "      <th>username</th>\n",
       "      <th>clarification_text</th>\n",
       "      <th>user_agreement</th>\n",
       "      <th>consent_text</th>\n",
       "      <th>field</th>\n",
       "    </tr>\n",
       "  </thead>\n",
       "  <tbody>\n",
       "    <tr>\n",
       "      <th>0</th>\n",
       "      <td>1</td>\n",
       "      <td>2022-07-16</td>\n",
       "      <td>5178249801</td>\n",
       "      <td>2349600692</td>\n",
       "      <td>True</td>\n",
       "      <td>True</td>\n",
       "      <td>False</td>\n",
       "      <td>[]</td>\n",
       "    </tr>\n",
       "    <tr>\n",
       "      <th>1</th>\n",
       "      <td>2</td>\n",
       "      <td>2022-06-25</td>\n",
       "      <td>9862687290</td>\n",
       "      <td>2655382030</td>\n",
       "      <td>True</td>\n",
       "      <td>True</td>\n",
       "      <td>True</td>\n",
       "      <td>[{'id': 1, 'farm_name': 'Paget', 'lat': 47.935...</td>\n",
       "    </tr>\n",
       "    <tr>\n",
       "      <th>2</th>\n",
       "      <td>3</td>\n",
       "      <td>2022-06-05</td>\n",
       "      <td>5730841345</td>\n",
       "      <td>4979548189</td>\n",
       "      <td>False</td>\n",
       "      <td>False</td>\n",
       "      <td>True</td>\n",
       "      <td>[{'id': 1, 'farm_name': 'Parkside', 'lat': 45....</td>\n",
       "    </tr>\n",
       "    <tr>\n",
       "      <th>3</th>\n",
       "      <td>4</td>\n",
       "      <td>2022-05-22</td>\n",
       "      <td>6701194524</td>\n",
       "      <td>2213833846</td>\n",
       "      <td>False</td>\n",
       "      <td>True</td>\n",
       "      <td>False</td>\n",
       "      <td>[]</td>\n",
       "    </tr>\n",
       "    <tr>\n",
       "      <th>4</th>\n",
       "      <td>5</td>\n",
       "      <td>2022-05-18</td>\n",
       "      <td>0139000380</td>\n",
       "      <td>4164911712</td>\n",
       "      <td>False</td>\n",
       "      <td>True</td>\n",
       "      <td>True</td>\n",
       "      <td>[]</td>\n",
       "    </tr>\n",
       "  </tbody>\n",
       "</table>\n",
       "</div>"
      ],
      "text/plain": [
       "   id     created        tckn    username  clarification_text  user_agreement  \\\n",
       "0   1  2022-07-16  5178249801  2349600692                True            True   \n",
       "1   2  2022-06-25  9862687290  2655382030                True            True   \n",
       "2   3  2022-06-05  5730841345  4979548189               False           False   \n",
       "3   4  2022-05-22  6701194524  2213833846               False            True   \n",
       "4   5  2022-05-18  0139000380  4164911712               False            True   \n",
       "\n",
       "   consent_text                                              field  \n",
       "0         False                                                 []  \n",
       "1          True  [{'id': 1, 'farm_name': 'Paget', 'lat': 47.935...  \n",
       "2          True  [{'id': 1, 'farm_name': 'Parkside', 'lat': 45....  \n",
       "3         False                                                 []  \n",
       "4          True                                                 []  "
      ]
     },
     "execution_count": 22,
     "metadata": {},
     "output_type": "execute_result"
    }
   ],
   "source": [
    "users = pd.DataFrame(response_info[\"users\"])\n",
    "users.head()"
   ]
  },
  {
   "cell_type": "code",
   "execution_count": 23,
   "id": "c1c366ae-ca18-44a7-a0bf-ae82de7be7d8",
   "metadata": {
    "tags": []
   },
   "outputs": [
    {
     "data": {
      "text/html": [
       "<div>\n",
       "<style scoped>\n",
       "    .dataframe tbody tr th:only-of-type {\n",
       "        vertical-align: middle;\n",
       "    }\n",
       "\n",
       "    .dataframe tbody tr th {\n",
       "        vertical-align: top;\n",
       "    }\n",
       "\n",
       "    .dataframe thead th {\n",
       "        text-align: right;\n",
       "    }\n",
       "</style>\n",
       "<table border=\"1\" class=\"dataframe\">\n",
       "  <thead>\n",
       "    <tr style=\"text-align: right;\">\n",
       "      <th></th>\n",
       "      <th>id</th>\n",
       "      <th>created</th>\n",
       "      <th>created_amount</th>\n",
       "      <th>demand_gsm</th>\n",
       "      <th>city</th>\n",
       "      <th>town</th>\n",
       "      <th>username</th>\n",
       "      <th>tckn</th>\n",
       "    </tr>\n",
       "  </thead>\n",
       "  <tbody>\n",
       "    <tr>\n",
       "      <th>0</th>\n",
       "      <td>1</td>\n",
       "      <td>2022-08-03</td>\n",
       "      <td>14136</td>\n",
       "      <td>8988047843</td>\n",
       "      <td>Jiang’an</td>\n",
       "      <td>0 Novick Court</td>\n",
       "      <td>2828789390</td>\n",
       "      <td>6210552307</td>\n",
       "    </tr>\n",
       "    <tr>\n",
       "      <th>1</th>\n",
       "      <td>2</td>\n",
       "      <td>2022-07-14</td>\n",
       "      <td>23773</td>\n",
       "      <td>2493561865</td>\n",
       "      <td>Candelaria</td>\n",
       "      <td>6 Cherokee Parkway</td>\n",
       "      <td>6099742344</td>\n",
       "      <td>4084245844</td>\n",
       "    </tr>\n",
       "    <tr>\n",
       "      <th>2</th>\n",
       "      <td>3</td>\n",
       "      <td>2022-06-18</td>\n",
       "      <td>130501</td>\n",
       "      <td>2074029926</td>\n",
       "      <td>Ono</td>\n",
       "      <td>9348 Lunder Trail</td>\n",
       "      <td>3888799340</td>\n",
       "      <td>0449677117</td>\n",
       "    </tr>\n",
       "    <tr>\n",
       "      <th>3</th>\n",
       "      <td>4</td>\n",
       "      <td>2022-05-30</td>\n",
       "      <td>47882</td>\n",
       "      <td>8855966732</td>\n",
       "      <td>Brezovica</td>\n",
       "      <td>42249 Bowman Place</td>\n",
       "      <td>4471451603</td>\n",
       "      <td>1728199247</td>\n",
       "    </tr>\n",
       "    <tr>\n",
       "      <th>4</th>\n",
       "      <td>5</td>\n",
       "      <td>2022-06-18</td>\n",
       "      <td>96258</td>\n",
       "      <td>4596224197</td>\n",
       "      <td>Asbest</td>\n",
       "      <td>03 Lyons Park</td>\n",
       "      <td>5493021312</td>\n",
       "      <td>4294842199</td>\n",
       "    </tr>\n",
       "  </tbody>\n",
       "</table>\n",
       "</div>"
      ],
      "text/plain": [
       "   id     created  created_amount  demand_gsm        city                town  \\\n",
       "0   1  2022-08-03           14136  8988047843    Jiang’an      0 Novick Court   \n",
       "1   2  2022-07-14           23773  2493561865  Candelaria  6 Cherokee Parkway   \n",
       "2   3  2022-06-18          130501  2074029926         Ono   9348 Lunder Trail   \n",
       "3   4  2022-05-30           47882  8855966732   Brezovica  42249 Bowman Place   \n",
       "4   5  2022-06-18           96258  4596224197      Asbest       03 Lyons Park   \n",
       "\n",
       "     username        tckn  \n",
       "0  2828789390  6210552307  \n",
       "1  6099742344  4084245844  \n",
       "2  3888799340  0449677117  \n",
       "3  4471451603  1728199247  \n",
       "4  5493021312  4294842199  "
      ]
     },
     "execution_count": 23,
     "metadata": {},
     "output_type": "execute_result"
    }
   ],
   "source": [
    "credits = pd.DataFrame(response_info[\"credits\"])\n",
    "credits.head()"
   ]
  },
  {
   "cell_type": "markdown",
   "id": "54d8e9fc-1163-4911-a269-d4800d1b3e0c",
   "metadata": {},
   "source": [
    "## Extract 'field' column to different dataframe"
   ]
  },
  {
   "cell_type": "code",
   "execution_count": 24,
   "id": "7a437eae-4962-4a6f-8c8d-453ee10918c5",
   "metadata": {
    "tags": []
   },
   "outputs": [],
   "source": [
    "field_list = list()\n",
    "for i in range(len(response_info[\"users\"])):\n",
    "    field_list.append(response_info[\"users\"][i][\"field\"])"
   ]
  },
  {
   "cell_type": "code",
   "execution_count": 25,
   "id": "dc04bed4-e8dc-40ba-afc0-31570c25575e",
   "metadata": {
    "tags": []
   },
   "outputs": [],
   "source": [
    "for i in range(len(field_list)):\n",
    "    if len(field_list[i]) == 0:\n",
    "        field_list[i] = [{'id': \"\",\n",
    "        'farm_name': '',\n",
    "        'lat': \"\",\n",
    "        'lng': \"\",\n",
    "        'area': \"\",\n",
    "        'plant': '',\n",
    "        'season_start_date': '',\n",
    "        'season_end_date': ''}]\n",
    "    else:\n",
    "        continue"
   ]
  },
  {
   "cell_type": "code",
   "execution_count": 26,
   "id": "6fe34360-05a4-485f-9396-4720aada9f49",
   "metadata": {},
   "outputs": [
    {
     "data": {
      "text/plain": [
       "[{'id': 1,\n",
       "  'farm_name': 'Parkside',\n",
       "  'lat': 45.287717074,\n",
       "  'lng': 58.064253139,\n",
       "  'area': 24.12880332,\n",
       "  'plant': 'Starhorn',\n",
       "  'season_start_date': '2022-05-08 17:24:33',\n",
       "  'season_end_date': '2022-07-29 05:36:34'}]"
      ]
     },
     "execution_count": 26,
     "metadata": {},
     "output_type": "execute_result"
    }
   ],
   "source": [
    "field_list[2]"
   ]
  },
  {
   "cell_type": "code",
   "execution_count": 16,
   "id": "bc6cfa5a-2a36-4db5-9a16-c557137f7ad2",
   "metadata": {},
   "outputs": [],
   "source": [
    "from itertools import chain"
   ]
  },
  {
   "cell_type": "code",
   "execution_count": 17,
   "id": "2d611342-12de-4cda-953c-f29a1adb183a",
   "metadata": {
    "tags": []
   },
   "outputs": [
    {
     "data": {
      "text/html": [
       "<div>\n",
       "<style scoped>\n",
       "    .dataframe tbody tr th:only-of-type {\n",
       "        vertical-align: middle;\n",
       "    }\n",
       "\n",
       "    .dataframe tbody tr th {\n",
       "        vertical-align: top;\n",
       "    }\n",
       "\n",
       "    .dataframe thead th {\n",
       "        text-align: right;\n",
       "    }\n",
       "</style>\n",
       "<table border=\"1\" class=\"dataframe\">\n",
       "  <thead>\n",
       "    <tr style=\"text-align: right;\">\n",
       "      <th></th>\n",
       "      <th>id</th>\n",
       "      <th>farm_name</th>\n",
       "      <th>lat</th>\n",
       "      <th>lng</th>\n",
       "      <th>area</th>\n",
       "      <th>plant</th>\n",
       "      <th>season_start_date</th>\n",
       "      <th>season_end_date</th>\n",
       "    </tr>\n",
       "  </thead>\n",
       "  <tbody>\n",
       "    <tr>\n",
       "      <th>0</th>\n",
       "      <td></td>\n",
       "      <td></td>\n",
       "      <td></td>\n",
       "      <td></td>\n",
       "      <td></td>\n",
       "      <td></td>\n",
       "      <td></td>\n",
       "      <td></td>\n",
       "    </tr>\n",
       "    <tr>\n",
       "      <th>1</th>\n",
       "      <td>1</td>\n",
       "      <td>Paget</td>\n",
       "      <td>47.935201</td>\n",
       "      <td>13.710337</td>\n",
       "      <td>95.535737</td>\n",
       "      <td>Waterhyssop</td>\n",
       "      <td>2022-04-04 09:15:37</td>\n",
       "      <td>2022-05-15 20:20:36</td>\n",
       "    </tr>\n",
       "    <tr>\n",
       "      <th>2</th>\n",
       "      <td>1</td>\n",
       "      <td>Parkside</td>\n",
       "      <td>45.287717</td>\n",
       "      <td>58.064253</td>\n",
       "      <td>24.128803</td>\n",
       "      <td>Starhorn</td>\n",
       "      <td>2022-05-08 17:24:33</td>\n",
       "      <td>2022-07-29 05:36:34</td>\n",
       "    </tr>\n",
       "    <tr>\n",
       "      <th>3</th>\n",
       "      <td></td>\n",
       "      <td></td>\n",
       "      <td></td>\n",
       "      <td></td>\n",
       "      <td></td>\n",
       "      <td></td>\n",
       "      <td></td>\n",
       "      <td></td>\n",
       "    </tr>\n",
       "    <tr>\n",
       "      <th>4</th>\n",
       "      <td></td>\n",
       "      <td></td>\n",
       "      <td></td>\n",
       "      <td></td>\n",
       "      <td></td>\n",
       "      <td></td>\n",
       "      <td></td>\n",
       "      <td></td>\n",
       "    </tr>\n",
       "  </tbody>\n",
       "</table>\n",
       "</div>"
      ],
      "text/plain": [
       "  id farm_name        lat        lng       area        plant  \\\n",
       "0                                                              \n",
       "1  1     Paget  47.935201  13.710337  95.535737  Waterhyssop   \n",
       "2  1  Parkside  45.287717  58.064253  24.128803     Starhorn   \n",
       "3                                                              \n",
       "4                                                              \n",
       "\n",
       "     season_start_date      season_end_date  \n",
       "0                                            \n",
       "1  2022-04-04 09:15:37  2022-05-15 20:20:36  \n",
       "2  2022-05-08 17:24:33  2022-07-29 05:36:34  \n",
       "3                                            \n",
       "4                                            "
      ]
     },
     "execution_count": 17,
     "metadata": {},
     "output_type": "execute_result"
    }
   ],
   "source": [
    "users_fields = pd.DataFrame(list(chain.from_iterable(field_list)))\n",
    "users_fields.head()"
   ]
  },
  {
   "cell_type": "markdown",
   "id": "cb8e5426-d77f-4729-979b-037940aac68a",
   "metadata": {},
   "source": [
    "## Add 'user_id' column to user_fields dataframe (like foreign key)"
   ]
  },
  {
   "cell_type": "code",
   "execution_count": 18,
   "id": "c08ddd64-b7c2-4e8d-b807-165ca336d17d",
   "metadata": {
    "tags": []
   },
   "outputs": [
    {
     "data": {
      "text/html": [
       "<div>\n",
       "<style scoped>\n",
       "    .dataframe tbody tr th:only-of-type {\n",
       "        vertical-align: middle;\n",
       "    }\n",
       "\n",
       "    .dataframe tbody tr th {\n",
       "        vertical-align: top;\n",
       "    }\n",
       "\n",
       "    .dataframe thead th {\n",
       "        text-align: right;\n",
       "    }\n",
       "</style>\n",
       "<table border=\"1\" class=\"dataframe\">\n",
       "  <thead>\n",
       "    <tr style=\"text-align: right;\">\n",
       "      <th></th>\n",
       "      <th>id</th>\n",
       "      <th>farm_name</th>\n",
       "      <th>lat</th>\n",
       "      <th>lng</th>\n",
       "      <th>area</th>\n",
       "      <th>plant</th>\n",
       "      <th>season_start_date</th>\n",
       "      <th>season_end_date</th>\n",
       "      <th>user_id</th>\n",
       "    </tr>\n",
       "  </thead>\n",
       "  <tbody>\n",
       "    <tr>\n",
       "      <th>0</th>\n",
       "      <td></td>\n",
       "      <td></td>\n",
       "      <td></td>\n",
       "      <td></td>\n",
       "      <td></td>\n",
       "      <td></td>\n",
       "      <td></td>\n",
       "      <td></td>\n",
       "      <td>1</td>\n",
       "    </tr>\n",
       "    <tr>\n",
       "      <th>1</th>\n",
       "      <td>1</td>\n",
       "      <td>Paget</td>\n",
       "      <td>47.935201</td>\n",
       "      <td>13.710337</td>\n",
       "      <td>95.535737</td>\n",
       "      <td>Waterhyssop</td>\n",
       "      <td>2022-04-04 09:15:37</td>\n",
       "      <td>2022-05-15 20:20:36</td>\n",
       "      <td>2</td>\n",
       "    </tr>\n",
       "    <tr>\n",
       "      <th>2</th>\n",
       "      <td>1</td>\n",
       "      <td>Parkside</td>\n",
       "      <td>45.287717</td>\n",
       "      <td>58.064253</td>\n",
       "      <td>24.128803</td>\n",
       "      <td>Starhorn</td>\n",
       "      <td>2022-05-08 17:24:33</td>\n",
       "      <td>2022-07-29 05:36:34</td>\n",
       "      <td>3</td>\n",
       "    </tr>\n",
       "    <tr>\n",
       "      <th>3</th>\n",
       "      <td></td>\n",
       "      <td></td>\n",
       "      <td></td>\n",
       "      <td></td>\n",
       "      <td></td>\n",
       "      <td></td>\n",
       "      <td></td>\n",
       "      <td></td>\n",
       "      <td>4</td>\n",
       "    </tr>\n",
       "    <tr>\n",
       "      <th>4</th>\n",
       "      <td></td>\n",
       "      <td></td>\n",
       "      <td></td>\n",
       "      <td></td>\n",
       "      <td></td>\n",
       "      <td></td>\n",
       "      <td></td>\n",
       "      <td></td>\n",
       "      <td>5</td>\n",
       "    </tr>\n",
       "  </tbody>\n",
       "</table>\n",
       "</div>"
      ],
      "text/plain": [
       "  id farm_name        lat        lng       area        plant  \\\n",
       "0                                                              \n",
       "1  1     Paget  47.935201  13.710337  95.535737  Waterhyssop   \n",
       "2  1  Parkside  45.287717  58.064253  24.128803     Starhorn   \n",
       "3                                                              \n",
       "4                                                              \n",
       "\n",
       "     season_start_date      season_end_date  user_id  \n",
       "0                                                  1  \n",
       "1  2022-04-04 09:15:37  2022-05-15 20:20:36        2  \n",
       "2  2022-05-08 17:24:33  2022-07-29 05:36:34        3  \n",
       "3                                                  4  \n",
       "4                                                  5  "
      ]
     },
     "execution_count": 18,
     "metadata": {},
     "output_type": "execute_result"
    }
   ],
   "source": [
    "users_fields[\"user_id\"] = users[\"id\"]\n",
    "users_fields.head()"
   ]
  },
  {
   "cell_type": "markdown",
   "id": "42d9e92e-d45a-42ea-aa3c-1d2b40f7d0c9",
   "metadata": {},
   "source": [
    "# Write json data to mysql database via dataframes."
   ]
  },
  {
   "cell_type": "code",
   "execution_count": 124,
   "id": "a966ac9c-f7bf-4cdd-ba36-1c935b60b4ca",
   "metadata": {
    "tags": []
   },
   "outputs": [],
   "source": [
    "from datetime import datetime\n",
    "import sqlalchemy\n",
    "from sqlalchemy import MetaData, exc, insert, update\n",
    "engine = sqlalchemy.create_engine('YOUR_DB_CONN') # connect to server\n",
    "engine.execute(\"USE logs\") # select new db\n",
    "conn = engine.connect()\n",
    "meta = sqlalchemy.MetaData()\n",
    "meta.reflect(engine, schema=\"logs\")\n",
    "meta.tables.keys()\n",
    "logs_table = meta.tables[\"logs.logs\"]"
   ]
  },
  {
   "cell_type": "code",
   "execution_count": null,
   "id": "5da74409-5099-47d5-808a-d2f0d1654252",
   "metadata": {
    "collapsed": true,
    "jupyter": {
     "outputs_hidden": true
    },
    "tags": []
   },
   "outputs": [
    {
     "name": "stdout",
     "output_type": "stream",
     "text": [
      "(pymysql.err.ProgrammingError) (1007, \"Can't create database 'users_fields'; database exists\")\n",
      "[SQL: CREATE DATABASE users_fields]\n",
      "(Background on this error at: https://sqlalche.me/e/14/f405)\n"
     ]
    }
   ],
   "source": [
    "try:\n",
    "    engine.execute(\"CREATE DATABASE users_fields\") #create db\n",
    "    engine.execute(\"USE users_fields\") # select new db\n",
    "    conn = engine.connect()\n",
    "except exc.SQLAlchemyError as e:\n",
    "    query = insert(logs_table)\n",
    "    query = query.values(err_code=e.__dict__[\"code\"], err_statement=e.__dict__[\"statement\"], err_msg=e.__dict__[\"orig\"], err_occur_dt=datetime.now().strftime(\"%d/%m/%Y %H:%M:%S\"))\n",
    "    engine.execute(query)"
   ]
  },
  {
   "cell_type": "code",
   "execution_count": 30,
   "id": "1307d62a-5b35-4605-8243-59f25356c487",
   "metadata": {
    "tags": []
   },
   "outputs": [],
   "source": [
    "users_fields.to_sql(name=\"users_fields\", con=conn)"
   ]
  },
  {
   "cell_type": "code",
   "execution_count": 31,
   "id": "9e43b09c-9e1b-497c-810d-0994713288c5",
   "metadata": {
    "tags": []
   },
   "outputs": [
    {
     "data": {
      "text/html": [
       "<div>\n",
       "<style scoped>\n",
       "    .dataframe tbody tr th:only-of-type {\n",
       "        vertical-align: middle;\n",
       "    }\n",
       "\n",
       "    .dataframe tbody tr th {\n",
       "        vertical-align: top;\n",
       "    }\n",
       "\n",
       "    .dataframe thead th {\n",
       "        text-align: right;\n",
       "    }\n",
       "</style>\n",
       "<table border=\"1\" class=\"dataframe\">\n",
       "  <thead>\n",
       "    <tr style=\"text-align: right;\">\n",
       "      <th></th>\n",
       "      <th>id</th>\n",
       "      <th>farm_name</th>\n",
       "      <th>lat</th>\n",
       "      <th>lng</th>\n",
       "      <th>area</th>\n",
       "      <th>plant</th>\n",
       "      <th>season_start_date</th>\n",
       "      <th>season_end_date</th>\n",
       "      <th>user_id</th>\n",
       "    </tr>\n",
       "  </thead>\n",
       "  <tbody>\n",
       "    <tr>\n",
       "      <th>0</th>\n",
       "      <td></td>\n",
       "      <td></td>\n",
       "      <td></td>\n",
       "      <td></td>\n",
       "      <td></td>\n",
       "      <td></td>\n",
       "      <td></td>\n",
       "      <td></td>\n",
       "      <td>1</td>\n",
       "    </tr>\n",
       "    <tr>\n",
       "      <th>1</th>\n",
       "      <td>1</td>\n",
       "      <td>Paget</td>\n",
       "      <td>47.935201</td>\n",
       "      <td>13.710337</td>\n",
       "      <td>95.535737</td>\n",
       "      <td>Waterhyssop</td>\n",
       "      <td>2022-04-04 09:15:37</td>\n",
       "      <td>2022-05-15 20:20:36</td>\n",
       "      <td>2</td>\n",
       "    </tr>\n",
       "    <tr>\n",
       "      <th>2</th>\n",
       "      <td>1</td>\n",
       "      <td>Parkside</td>\n",
       "      <td>45.287717</td>\n",
       "      <td>58.064253</td>\n",
       "      <td>24.128803</td>\n",
       "      <td>Starhorn</td>\n",
       "      <td>2022-05-08 17:24:33</td>\n",
       "      <td>2022-07-29 05:36:34</td>\n",
       "      <td>3</td>\n",
       "    </tr>\n",
       "    <tr>\n",
       "      <th>3</th>\n",
       "      <td></td>\n",
       "      <td></td>\n",
       "      <td></td>\n",
       "      <td></td>\n",
       "      <td></td>\n",
       "      <td></td>\n",
       "      <td></td>\n",
       "      <td></td>\n",
       "      <td>4</td>\n",
       "    </tr>\n",
       "    <tr>\n",
       "      <th>4</th>\n",
       "      <td></td>\n",
       "      <td></td>\n",
       "      <td></td>\n",
       "      <td></td>\n",
       "      <td></td>\n",
       "      <td></td>\n",
       "      <td></td>\n",
       "      <td></td>\n",
       "      <td>5</td>\n",
       "    </tr>\n",
       "  </tbody>\n",
       "</table>\n",
       "</div>"
      ],
      "text/plain": [
       "  id farm_name        lat        lng       area        plant  \\\n",
       "0                                                              \n",
       "1  1     Paget  47.935201  13.710337  95.535737  Waterhyssop   \n",
       "2  1  Parkside  45.287717  58.064253  24.128803     Starhorn   \n",
       "3                                                              \n",
       "4                                                              \n",
       "\n",
       "     season_start_date      season_end_date  user_id  \n",
       "0                                                  1  \n",
       "1  2022-04-04 09:15:37  2022-05-15 20:20:36        2  \n",
       "2  2022-05-08 17:24:33  2022-07-29 05:36:34        3  \n",
       "3                                                  4  \n",
       "4                                                  5  "
      ]
     },
     "execution_count": 31,
     "metadata": {},
     "output_type": "execute_result"
    }
   ],
   "source": [
    "users_fields.head()"
   ]
  },
  {
   "cell_type": "code",
   "execution_count": 26,
   "id": "5a2f5dde-8e63-46cd-8929-c577dcfd3583",
   "metadata": {
    "tags": []
   },
   "outputs": [],
   "source": [
    "try:\n",
    "    engine.execute(\"CREATE DATABASE users\") #create db\n",
    "    engine.execute(\"USE users\") # select new db\n",
    "    conn = engine.connect()\n",
    "except exc.SQLAlchemyError as e:\n",
    "    query = insert(logs_table)\n",
    "    query = query.values(err_code=e.__dict__[\"code\"], err_statement=e.__dict__[\"statement\"], err_msg=e.__dict__[\"orig\"], err_occur_dt=datetime.now().strftime(\"%d/%m/%Y %H:%M:%S\"))\n",
    "    engine.execute(query)"
   ]
  },
  {
   "cell_type": "code",
   "execution_count": 27,
   "id": "679c718b-3319-4d55-af08-d19dbc12cd5d",
   "metadata": {},
   "outputs": [
    {
     "data": {
      "text/html": [
       "<div>\n",
       "<style scoped>\n",
       "    .dataframe tbody tr th:only-of-type {\n",
       "        vertical-align: middle;\n",
       "    }\n",
       "\n",
       "    .dataframe tbody tr th {\n",
       "        vertical-align: top;\n",
       "    }\n",
       "\n",
       "    .dataframe thead th {\n",
       "        text-align: right;\n",
       "    }\n",
       "</style>\n",
       "<table border=\"1\" class=\"dataframe\">\n",
       "  <thead>\n",
       "    <tr style=\"text-align: right;\">\n",
       "      <th></th>\n",
       "      <th>id</th>\n",
       "      <th>created</th>\n",
       "      <th>tckn</th>\n",
       "      <th>username</th>\n",
       "      <th>clarification_text</th>\n",
       "      <th>user_agreement</th>\n",
       "      <th>consent_text</th>\n",
       "    </tr>\n",
       "  </thead>\n",
       "  <tbody>\n",
       "    <tr>\n",
       "      <th>0</th>\n",
       "      <td>1</td>\n",
       "      <td>2022-07-16</td>\n",
       "      <td>5178249801</td>\n",
       "      <td>2349600692</td>\n",
       "      <td>True</td>\n",
       "      <td>True</td>\n",
       "      <td>False</td>\n",
       "    </tr>\n",
       "    <tr>\n",
       "      <th>1</th>\n",
       "      <td>2</td>\n",
       "      <td>2022-06-25</td>\n",
       "      <td>9862687290</td>\n",
       "      <td>2655382030</td>\n",
       "      <td>True</td>\n",
       "      <td>True</td>\n",
       "      <td>True</td>\n",
       "    </tr>\n",
       "    <tr>\n",
       "      <th>2</th>\n",
       "      <td>3</td>\n",
       "      <td>2022-06-05</td>\n",
       "      <td>5730841345</td>\n",
       "      <td>4979548189</td>\n",
       "      <td>False</td>\n",
       "      <td>False</td>\n",
       "      <td>True</td>\n",
       "    </tr>\n",
       "    <tr>\n",
       "      <th>3</th>\n",
       "      <td>4</td>\n",
       "      <td>2022-05-22</td>\n",
       "      <td>6701194524</td>\n",
       "      <td>2213833846</td>\n",
       "      <td>False</td>\n",
       "      <td>True</td>\n",
       "      <td>False</td>\n",
       "    </tr>\n",
       "    <tr>\n",
       "      <th>4</th>\n",
       "      <td>5</td>\n",
       "      <td>2022-05-18</td>\n",
       "      <td>0139000380</td>\n",
       "      <td>4164911712</td>\n",
       "      <td>False</td>\n",
       "      <td>True</td>\n",
       "      <td>True</td>\n",
       "    </tr>\n",
       "  </tbody>\n",
       "</table>\n",
       "</div>"
      ],
      "text/plain": [
       "   id     created        tckn    username  clarification_text  user_agreement  \\\n",
       "0   1  2022-07-16  5178249801  2349600692                True            True   \n",
       "1   2  2022-06-25  9862687290  2655382030                True            True   \n",
       "2   3  2022-06-05  5730841345  4979548189               False           False   \n",
       "3   4  2022-05-22  6701194524  2213833846               False            True   \n",
       "4   5  2022-05-18  0139000380  4164911712               False            True   \n",
       "\n",
       "   consent_text  \n",
       "0         False  \n",
       "1          True  \n",
       "2          True  \n",
       "3         False  \n",
       "4          True  "
      ]
     },
     "execution_count": 27,
     "metadata": {},
     "output_type": "execute_result"
    }
   ],
   "source": [
    "users.drop(columns=\"field\", inplace=True)\n",
    "users.head()"
   ]
  },
  {
   "cell_type": "code",
   "execution_count": 28,
   "id": "871f9924-812d-4eea-8b3e-35ddb14ad76e",
   "metadata": {},
   "outputs": [],
   "source": [
    "users.to_sql(name=\"users\", con=conn)"
   ]
  },
  {
   "cell_type": "code",
   "execution_count": 117,
   "id": "55d9e2bb-79cc-4765-8a99-b3d6f0e4df11",
   "metadata": {
    "tags": []
   },
   "outputs": [],
   "source": [
    "try:    \n",
    "    engine.execute(\"CREATE DATABASE credits\") #create db\n",
    "    engine.execute(\"USE credits\") # select new db\n",
    "    conn = engine.connect()\n",
    "\n",
    "except exc.SQLAlchemyError as e:\n",
    "    query = insert(logs_table)\n",
    "    query = query.values(err_code=e.__dict__[\"code\"], err_statement=e.__dict__[\"statement\"], err_msg=e.__dict__[\"orig\"], err_occur_dt=datetime.now().strftime(\"%d/%m/%Y %H:%M:%S\"))\n",
    "    engine.execute(query)"
   ]
  },
  {
   "cell_type": "code",
   "execution_count": 118,
   "id": "6a3d63a5-86ce-48de-80d3-377d9a111851",
   "metadata": {},
   "outputs": [
    {
     "data": {
      "text/html": [
       "<div>\n",
       "<style scoped>\n",
       "    .dataframe tbody tr th:only-of-type {\n",
       "        vertical-align: middle;\n",
       "    }\n",
       "\n",
       "    .dataframe tbody tr th {\n",
       "        vertical-align: top;\n",
       "    }\n",
       "\n",
       "    .dataframe thead th {\n",
       "        text-align: right;\n",
       "    }\n",
       "</style>\n",
       "<table border=\"1\" class=\"dataframe\">\n",
       "  <thead>\n",
       "    <tr style=\"text-align: right;\">\n",
       "      <th></th>\n",
       "      <th>id</th>\n",
       "      <th>created</th>\n",
       "      <th>created_amount</th>\n",
       "      <th>demand_gsm</th>\n",
       "      <th>city</th>\n",
       "      <th>town</th>\n",
       "      <th>username</th>\n",
       "      <th>tckn</th>\n",
       "    </tr>\n",
       "  </thead>\n",
       "  <tbody>\n",
       "    <tr>\n",
       "      <th>0</th>\n",
       "      <td>1</td>\n",
       "      <td>2022-08-03</td>\n",
       "      <td>14136</td>\n",
       "      <td>8988047843</td>\n",
       "      <td>Jiang’an</td>\n",
       "      <td>0 Novick Court</td>\n",
       "      <td>2828789390</td>\n",
       "      <td>6210552307</td>\n",
       "    </tr>\n",
       "    <tr>\n",
       "      <th>1</th>\n",
       "      <td>2</td>\n",
       "      <td>2022-07-14</td>\n",
       "      <td>23773</td>\n",
       "      <td>2493561865</td>\n",
       "      <td>Candelaria</td>\n",
       "      <td>6 Cherokee Parkway</td>\n",
       "      <td>6099742344</td>\n",
       "      <td>4084245844</td>\n",
       "    </tr>\n",
       "    <tr>\n",
       "      <th>2</th>\n",
       "      <td>3</td>\n",
       "      <td>2022-06-18</td>\n",
       "      <td>130501</td>\n",
       "      <td>2074029926</td>\n",
       "      <td>Ono</td>\n",
       "      <td>9348 Lunder Trail</td>\n",
       "      <td>3888799340</td>\n",
       "      <td>0449677117</td>\n",
       "    </tr>\n",
       "    <tr>\n",
       "      <th>3</th>\n",
       "      <td>4</td>\n",
       "      <td>2022-05-30</td>\n",
       "      <td>47882</td>\n",
       "      <td>8855966732</td>\n",
       "      <td>Brezovica</td>\n",
       "      <td>42249 Bowman Place</td>\n",
       "      <td>4471451603</td>\n",
       "      <td>1728199247</td>\n",
       "    </tr>\n",
       "    <tr>\n",
       "      <th>4</th>\n",
       "      <td>5</td>\n",
       "      <td>2022-06-18</td>\n",
       "      <td>96258</td>\n",
       "      <td>4596224197</td>\n",
       "      <td>Asbest</td>\n",
       "      <td>03 Lyons Park</td>\n",
       "      <td>5493021312</td>\n",
       "      <td>4294842199</td>\n",
       "    </tr>\n",
       "  </tbody>\n",
       "</table>\n",
       "</div>"
      ],
      "text/plain": [
       "   id     created  created_amount  demand_gsm        city                town  \\\n",
       "0   1  2022-08-03           14136  8988047843    Jiang’an      0 Novick Court   \n",
       "1   2  2022-07-14           23773  2493561865  Candelaria  6 Cherokee Parkway   \n",
       "2   3  2022-06-18          130501  2074029926         Ono   9348 Lunder Trail   \n",
       "3   4  2022-05-30           47882  8855966732   Brezovica  42249 Bowman Place   \n",
       "4   5  2022-06-18           96258  4596224197      Asbest       03 Lyons Park   \n",
       "\n",
       "     username        tckn  \n",
       "0  2828789390  6210552307  \n",
       "1  6099742344  4084245844  \n",
       "2  3888799340  0449677117  \n",
       "3  4471451603  1728199247  \n",
       "4  5493021312  4294842199  "
      ]
     },
     "execution_count": 118,
     "metadata": {},
     "output_type": "execute_result"
    }
   ],
   "source": [
    "credits.head()"
   ]
  },
  {
   "cell_type": "code",
   "execution_count": 119,
   "id": "23915b0b-fbf6-428f-b4a2-6fdb72d043c5",
   "metadata": {
    "tags": []
   },
   "outputs": [],
   "source": [
    "credits.to_sql(name=\"credits\", con= conn)"
   ]
  },
  {
   "cell_type": "code",
   "execution_count": 43,
   "id": "832cc3a6-ff35-4870-8a60-c14460c66540",
   "metadata": {},
   "outputs": [],
   "source": [
    "engine.execute(\"USE users\")\n",
    "conn = engine.connect()"
   ]
  },
  {
   "cell_type": "code",
   "execution_count": 44,
   "id": "a6e303fa-20db-418b-9ad2-c278262abdef",
   "metadata": {},
   "outputs": [
    {
     "data": {
      "text/html": [
       "<div>\n",
       "<style scoped>\n",
       "    .dataframe tbody tr th:only-of-type {\n",
       "        vertical-align: middle;\n",
       "    }\n",
       "\n",
       "    .dataframe tbody tr th {\n",
       "        vertical-align: top;\n",
       "    }\n",
       "\n",
       "    .dataframe thead th {\n",
       "        text-align: right;\n",
       "    }\n",
       "</style>\n",
       "<table border=\"1\" class=\"dataframe\">\n",
       "  <thead>\n",
       "    <tr style=\"text-align: right;\">\n",
       "      <th></th>\n",
       "      <th>id</th>\n",
       "      <th>created</th>\n",
       "      <th>tckn</th>\n",
       "      <th>username</th>\n",
       "      <th>clarification_text</th>\n",
       "      <th>user_agreement</th>\n",
       "      <th>consent_text</th>\n",
       "    </tr>\n",
       "  </thead>\n",
       "  <tbody>\n",
       "    <tr>\n",
       "      <th>0</th>\n",
       "      <td>1</td>\n",
       "      <td>2022-07-16</td>\n",
       "      <td>5178249801</td>\n",
       "      <td>2349600692</td>\n",
       "      <td>1</td>\n",
       "      <td>1</td>\n",
       "      <td>0</td>\n",
       "    </tr>\n",
       "    <tr>\n",
       "      <th>1</th>\n",
       "      <td>2</td>\n",
       "      <td>2022-06-25</td>\n",
       "      <td>9862687290</td>\n",
       "      <td>2655382030</td>\n",
       "      <td>1</td>\n",
       "      <td>1</td>\n",
       "      <td>1</td>\n",
       "    </tr>\n",
       "    <tr>\n",
       "      <th>2</th>\n",
       "      <td>3</td>\n",
       "      <td>2022-06-05</td>\n",
       "      <td>5730841345</td>\n",
       "      <td>4979548189</td>\n",
       "      <td>0</td>\n",
       "      <td>0</td>\n",
       "      <td>1</td>\n",
       "    </tr>\n",
       "    <tr>\n",
       "      <th>3</th>\n",
       "      <td>4</td>\n",
       "      <td>2022-05-22</td>\n",
       "      <td>6701194524</td>\n",
       "      <td>2213833846</td>\n",
       "      <td>0</td>\n",
       "      <td>1</td>\n",
       "      <td>0</td>\n",
       "    </tr>\n",
       "    <tr>\n",
       "      <th>4</th>\n",
       "      <td>5</td>\n",
       "      <td>2022-05-18</td>\n",
       "      <td>0139000380</td>\n",
       "      <td>4164911712</td>\n",
       "      <td>0</td>\n",
       "      <td>1</td>\n",
       "      <td>1</td>\n",
       "    </tr>\n",
       "  </tbody>\n",
       "</table>\n",
       "</div>"
      ],
      "text/plain": [
       "   id     created        tckn    username  clarification_text  user_agreement  \\\n",
       "0   1  2022-07-16  5178249801  2349600692                   1               1   \n",
       "1   2  2022-06-25  9862687290  2655382030                   1               1   \n",
       "2   3  2022-06-05  5730841345  4979548189                   0               0   \n",
       "3   4  2022-05-22  6701194524  2213833846                   0               1   \n",
       "4   5  2022-05-18  0139000380  4164911712                   0               1   \n",
       "\n",
       "   consent_text  \n",
       "0             0  \n",
       "1             1  \n",
       "2             1  \n",
       "3             0  \n",
       "4             1  "
      ]
     },
     "execution_count": 44,
     "metadata": {},
     "output_type": "execute_result"
    }
   ],
   "source": [
    "db_users = pd.read_sql(\"select * from users\", con=conn)\n",
    "db_users.drop(columns=\"index\", inplace=True)\n",
    "db_users.head()"
   ]
  },
  {
   "cell_type": "markdown",
   "id": "57e92268-91fa-4f6c-a95a-39ed3aa87e1c",
   "metadata": {},
   "source": [
    "# Get database data to dataframe for compare json-server response and database data."
   ]
  },
  {
   "cell_type": "code",
   "execution_count": 1,
   "id": "156397db-346e-4c24-ae8e-84c0b2454222",
   "metadata": {},
   "outputs": [],
   "source": [
    "import pandas as pd\n",
    "from datetime import datetime\n",
    "import sqlalchemy\n",
    "from sqlalchemy import MetaData, exc, insert, update\n",
    "from itertools import chain\n",
    "engine = sqlalchemy.create_engine('YOUR_DB_CONN')\n",
    "pd.options.display.precision = 9"
   ]
  },
  {
   "cell_type": "code",
   "execution_count": 2,
   "id": "4f79af69-8f8f-46d2-b059-3a67553b9efe",
   "metadata": {
    "tags": []
   },
   "outputs": [],
   "source": [
    "engine.execute(\"USE users_fields\")\n",
    "conn = engine.connect()\n",
    "meta = sqlalchemy.MetaData()\n",
    "meta.reflect(engine, schema=\"users_fields\")"
   ]
  },
  {
   "cell_type": "code",
   "execution_count": 3,
   "id": "753ef273-4910-4bf3-9379-3f0571c89788",
   "metadata": {},
   "outputs": [
    {
     "data": {
      "text/plain": [
       "dict_keys(['users_fields.users_fields'])"
      ]
     },
     "execution_count": 3,
     "metadata": {},
     "output_type": "execute_result"
    }
   ],
   "source": [
    "meta.tables.keys()"
   ]
  },
  {
   "cell_type": "code",
   "execution_count": 4,
   "id": "671694d7-4768-43ef-b578-d93c5ffc5b16",
   "metadata": {},
   "outputs": [
    {
     "data": {
      "text/html": [
       "<div>\n",
       "<style scoped>\n",
       "    .dataframe tbody tr th:only-of-type {\n",
       "        vertical-align: middle;\n",
       "    }\n",
       "\n",
       "    .dataframe tbody tr th {\n",
       "        vertical-align: top;\n",
       "    }\n",
       "\n",
       "    .dataframe thead th {\n",
       "        text-align: right;\n",
       "    }\n",
       "</style>\n",
       "<table border=\"1\" class=\"dataframe\">\n",
       "  <thead>\n",
       "    <tr style=\"text-align: right;\">\n",
       "      <th></th>\n",
       "      <th>id</th>\n",
       "      <th>farm_name</th>\n",
       "      <th>lat</th>\n",
       "      <th>lng</th>\n",
       "      <th>area</th>\n",
       "      <th>plant</th>\n",
       "      <th>season_start_date</th>\n",
       "      <th>season_end_date</th>\n",
       "      <th>user_id</th>\n",
       "    </tr>\n",
       "  </thead>\n",
       "  <tbody>\n",
       "    <tr>\n",
       "      <th>0</th>\n",
       "      <td></td>\n",
       "      <td></td>\n",
       "      <td></td>\n",
       "      <td></td>\n",
       "      <td></td>\n",
       "      <td></td>\n",
       "      <td></td>\n",
       "      <td></td>\n",
       "      <td>1</td>\n",
       "    </tr>\n",
       "    <tr>\n",
       "      <th>1</th>\n",
       "      <td>1</td>\n",
       "      <td>Paget</td>\n",
       "      <td>47.93520072</td>\n",
       "      <td>13.710337028</td>\n",
       "      <td>95.535737494</td>\n",
       "      <td>Waterhyssop</td>\n",
       "      <td>2022-04-04 09:15:37</td>\n",
       "      <td>2022-05-15 20:20:36</td>\n",
       "      <td>2</td>\n",
       "    </tr>\n",
       "    <tr>\n",
       "      <th>2</th>\n",
       "      <td>1</td>\n",
       "      <td>Parkside</td>\n",
       "      <td>45.287717074</td>\n",
       "      <td>58.064253139</td>\n",
       "      <td>24.12880332</td>\n",
       "      <td>Starhorn</td>\n",
       "      <td>2022-05-08 17:24:33</td>\n",
       "      <td>2022-07-29 05:36:34</td>\n",
       "      <td>3</td>\n",
       "    </tr>\n",
       "    <tr>\n",
       "      <th>3</th>\n",
       "      <td></td>\n",
       "      <td></td>\n",
       "      <td></td>\n",
       "      <td></td>\n",
       "      <td></td>\n",
       "      <td></td>\n",
       "      <td></td>\n",
       "      <td></td>\n",
       "      <td>4</td>\n",
       "    </tr>\n",
       "    <tr>\n",
       "      <th>4</th>\n",
       "      <td></td>\n",
       "      <td></td>\n",
       "      <td></td>\n",
       "      <td></td>\n",
       "      <td></td>\n",
       "      <td></td>\n",
       "      <td></td>\n",
       "      <td></td>\n",
       "      <td>5</td>\n",
       "    </tr>\n",
       "  </tbody>\n",
       "</table>\n",
       "</div>"
      ],
      "text/plain": [
       "  id farm_name           lat           lng          area        plant  \\\n",
       "0                                                                       \n",
       "1  1     Paget   47.93520072  13.710337028  95.535737494  Waterhyssop   \n",
       "2  1  Parkside  45.287717074  58.064253139   24.12880332     Starhorn   \n",
       "3                                                                       \n",
       "4                                                                       \n",
       "\n",
       "     season_start_date      season_end_date  user_id  \n",
       "0                                                  1  \n",
       "1  2022-04-04 09:15:37  2022-05-15 20:20:36        2  \n",
       "2  2022-05-08 17:24:33  2022-07-29 05:36:34        3  \n",
       "3                                                  4  \n",
       "4                                                  5  "
      ]
     },
     "execution_count": 4,
     "metadata": {},
     "output_type": "execute_result"
    }
   ],
   "source": [
    "try:\n",
    "    db_fields = pd.read_sql(\"select * from users_fields\", con=conn)\n",
    "    db_fields.drop(columns=\"index\", inplace=True)\n",
    "\n",
    "except exc.SQLAlchemyError as e:\n",
    "    query = insert(logs_table)\n",
    "    query = query.values(err_code=e.__dict__[\"code\"], err_statement=e.__dict__[\"statement\"], err_msg=e.__dict__[\"orig\"], err_occur_dt=datetime.now().strftime(\"%d/%m/%Y %H:%M:%S\"))\n",
    "    engine.execute(query)\n",
    "\n",
    "db_fields.head()"
   ]
  },
  {
   "cell_type": "code",
   "execution_count": 5,
   "id": "85339efc-e3ec-48dc-a628-a531dfecc783",
   "metadata": {
    "tags": []
   },
   "outputs": [],
   "source": [
    "engine.execute(\"USE users\")\n",
    "conn = engine.connect()\n",
    "meta = sqlalchemy.MetaData()\n",
    "meta.reflect(engine, schema=\"users\")"
   ]
  },
  {
   "cell_type": "code",
   "execution_count": 6,
   "id": "bc65a613-8f52-47b9-bb2c-9a5777a85a39",
   "metadata": {},
   "outputs": [
    {
     "data": {
      "text/plain": [
       "dict_keys(['users.users'])"
      ]
     },
     "execution_count": 6,
     "metadata": {},
     "output_type": "execute_result"
    }
   ],
   "source": [
    "meta.tables.keys()"
   ]
  },
  {
   "cell_type": "code",
   "execution_count": 7,
   "id": "f75888d0-b0e1-481f-9b46-01c6bcde4dd9",
   "metadata": {},
   "outputs": [
    {
     "data": {
      "text/html": [
       "<div>\n",
       "<style scoped>\n",
       "    .dataframe tbody tr th:only-of-type {\n",
       "        vertical-align: middle;\n",
       "    }\n",
       "\n",
       "    .dataframe tbody tr th {\n",
       "        vertical-align: top;\n",
       "    }\n",
       "\n",
       "    .dataframe thead th {\n",
       "        text-align: right;\n",
       "    }\n",
       "</style>\n",
       "<table border=\"1\" class=\"dataframe\">\n",
       "  <thead>\n",
       "    <tr style=\"text-align: right;\">\n",
       "      <th></th>\n",
       "      <th>id</th>\n",
       "      <th>created</th>\n",
       "      <th>tckn</th>\n",
       "      <th>username</th>\n",
       "      <th>clarification_text</th>\n",
       "      <th>user_agreement</th>\n",
       "      <th>consent_text</th>\n",
       "    </tr>\n",
       "  </thead>\n",
       "  <tbody>\n",
       "    <tr>\n",
       "      <th>0</th>\n",
       "      <td>1</td>\n",
       "      <td>2022-07-16</td>\n",
       "      <td>5178249801</td>\n",
       "      <td>2349600692</td>\n",
       "      <td>1</td>\n",
       "      <td>1</td>\n",
       "      <td>0</td>\n",
       "    </tr>\n",
       "    <tr>\n",
       "      <th>1</th>\n",
       "      <td>2</td>\n",
       "      <td>2022-06-25</td>\n",
       "      <td>9862687290</td>\n",
       "      <td>2655382030</td>\n",
       "      <td>1</td>\n",
       "      <td>1</td>\n",
       "      <td>1</td>\n",
       "    </tr>\n",
       "    <tr>\n",
       "      <th>2</th>\n",
       "      <td>3</td>\n",
       "      <td>2022-06-05</td>\n",
       "      <td>5730841345</td>\n",
       "      <td>4979548189</td>\n",
       "      <td>0</td>\n",
       "      <td>0</td>\n",
       "      <td>1</td>\n",
       "    </tr>\n",
       "    <tr>\n",
       "      <th>3</th>\n",
       "      <td>4</td>\n",
       "      <td>2022-05-22</td>\n",
       "      <td>6701194524</td>\n",
       "      <td>2213833846</td>\n",
       "      <td>0</td>\n",
       "      <td>1</td>\n",
       "      <td>0</td>\n",
       "    </tr>\n",
       "    <tr>\n",
       "      <th>4</th>\n",
       "      <td>5</td>\n",
       "      <td>2022-05-18</td>\n",
       "      <td>0139000380</td>\n",
       "      <td>4164911712</td>\n",
       "      <td>0</td>\n",
       "      <td>1</td>\n",
       "      <td>1</td>\n",
       "    </tr>\n",
       "  </tbody>\n",
       "</table>\n",
       "</div>"
      ],
      "text/plain": [
       "   id     created        tckn    username  clarification_text  user_agreement  \\\n",
       "0   1  2022-07-16  5178249801  2349600692                   1               1   \n",
       "1   2  2022-06-25  9862687290  2655382030                   1               1   \n",
       "2   3  2022-06-05  5730841345  4979548189                   0               0   \n",
       "3   4  2022-05-22  6701194524  2213833846                   0               1   \n",
       "4   5  2022-05-18  0139000380  4164911712                   0               1   \n",
       "\n",
       "   consent_text  \n",
       "0             0  \n",
       "1             1  \n",
       "2             1  \n",
       "3             0  \n",
       "4             1  "
      ]
     },
     "execution_count": 7,
     "metadata": {},
     "output_type": "execute_result"
    }
   ],
   "source": [
    "try:\n",
    "    db_users = pd.read_sql(\"select * from users\", con=conn)\n",
    "    db_users.drop(columns=\"index\", inplace=True)\n",
    "\n",
    "except exc.SQLAlchemyError as e:\n",
    "    query = insert(logs_table)\n",
    "    query = query.values(err_code=e.__dict__[\"code\"], err_statement=e.__dict__[\"statement\"], err_msg=e.__dict__[\"orig\"], err_occur_dt=datetime.now().strftime(\"%d/%m/%Y %H:%M:%S\"))\n",
    "    engine.execute(query)\n",
    "\n",
    "db_users.head()"
   ]
  },
  {
   "cell_type": "code",
   "execution_count": 8,
   "id": "74cc797e-ac6b-42d8-9de3-e823541d21fe",
   "metadata": {
    "tags": []
   },
   "outputs": [],
   "source": [
    "engine.execute(\"USE credits\")\n",
    "conn = engine.connect()\n",
    "meta = sqlalchemy.MetaData()\n",
    "meta.reflect(engine, schema=\"credits\")"
   ]
  },
  {
   "cell_type": "code",
   "execution_count": 9,
   "id": "7af3e9ee-2354-48c2-8ed6-6d2ae2156a09",
   "metadata": {},
   "outputs": [
    {
     "data": {
      "text/plain": [
       "dict_keys(['credits.credits'])"
      ]
     },
     "execution_count": 9,
     "metadata": {},
     "output_type": "execute_result"
    }
   ],
   "source": [
    "meta.tables.keys()"
   ]
  },
  {
   "cell_type": "code",
   "execution_count": 10,
   "id": "e43f3a97-e0db-42fc-8c2c-a8cd8ff1d298",
   "metadata": {},
   "outputs": [
    {
     "data": {
      "text/html": [
       "<div>\n",
       "<style scoped>\n",
       "    .dataframe tbody tr th:only-of-type {\n",
       "        vertical-align: middle;\n",
       "    }\n",
       "\n",
       "    .dataframe tbody tr th {\n",
       "        vertical-align: top;\n",
       "    }\n",
       "\n",
       "    .dataframe thead th {\n",
       "        text-align: right;\n",
       "    }\n",
       "</style>\n",
       "<table border=\"1\" class=\"dataframe\">\n",
       "  <thead>\n",
       "    <tr style=\"text-align: right;\">\n",
       "      <th></th>\n",
       "      <th>id</th>\n",
       "      <th>created</th>\n",
       "      <th>created_amount</th>\n",
       "      <th>demand_gsm</th>\n",
       "      <th>city</th>\n",
       "      <th>town</th>\n",
       "      <th>username</th>\n",
       "      <th>tckn</th>\n",
       "    </tr>\n",
       "  </thead>\n",
       "  <tbody>\n",
       "    <tr>\n",
       "      <th>0</th>\n",
       "      <td>1</td>\n",
       "      <td>2022-08-03</td>\n",
       "      <td>14136</td>\n",
       "      <td>8988047843</td>\n",
       "      <td>Jiang’an</td>\n",
       "      <td>0 Novick Court</td>\n",
       "      <td>2828789390</td>\n",
       "      <td>6210552307</td>\n",
       "    </tr>\n",
       "    <tr>\n",
       "      <th>1</th>\n",
       "      <td>2</td>\n",
       "      <td>2022-07-14</td>\n",
       "      <td>23773</td>\n",
       "      <td>2493561865</td>\n",
       "      <td>Candelaria</td>\n",
       "      <td>6 Cherokee Parkway</td>\n",
       "      <td>6099742344</td>\n",
       "      <td>4084245844</td>\n",
       "    </tr>\n",
       "    <tr>\n",
       "      <th>2</th>\n",
       "      <td>3</td>\n",
       "      <td>2022-06-18</td>\n",
       "      <td>130501</td>\n",
       "      <td>2074029926</td>\n",
       "      <td>Ono</td>\n",
       "      <td>9348 Lunder Trail</td>\n",
       "      <td>3888799340</td>\n",
       "      <td>0449677117</td>\n",
       "    </tr>\n",
       "    <tr>\n",
       "      <th>3</th>\n",
       "      <td>4</td>\n",
       "      <td>2022-05-30</td>\n",
       "      <td>47882</td>\n",
       "      <td>8855966732</td>\n",
       "      <td>Brezovica</td>\n",
       "      <td>42249 Bowman Place</td>\n",
       "      <td>4471451603</td>\n",
       "      <td>1728199247</td>\n",
       "    </tr>\n",
       "    <tr>\n",
       "      <th>4</th>\n",
       "      <td>5</td>\n",
       "      <td>2022-06-18</td>\n",
       "      <td>96258</td>\n",
       "      <td>4596224197</td>\n",
       "      <td>Asbest</td>\n",
       "      <td>03 Lyons Park</td>\n",
       "      <td>5493021312</td>\n",
       "      <td>4294842199</td>\n",
       "    </tr>\n",
       "  </tbody>\n",
       "</table>\n",
       "</div>"
      ],
      "text/plain": [
       "   id     created  created_amount  demand_gsm        city                town  \\\n",
       "0   1  2022-08-03           14136  8988047843    Jiang’an      0 Novick Court   \n",
       "1   2  2022-07-14           23773  2493561865  Candelaria  6 Cherokee Parkway   \n",
       "2   3  2022-06-18          130501  2074029926         Ono   9348 Lunder Trail   \n",
       "3   4  2022-05-30           47882  8855966732   Brezovica  42249 Bowman Place   \n",
       "4   5  2022-06-18           96258  4596224197      Asbest       03 Lyons Park   \n",
       "\n",
       "     username        tckn  \n",
       "0  2828789390  6210552307  \n",
       "1  6099742344  4084245844  \n",
       "2  3888799340  0449677117  \n",
       "3  4471451603  1728199247  \n",
       "4  5493021312  4294842199  "
      ]
     },
     "execution_count": 10,
     "metadata": {},
     "output_type": "execute_result"
    }
   ],
   "source": [
    "try:\n",
    "    db_credits = pd.read_sql(\"select * from credits\", con=conn)\n",
    "    db_credits.drop(columns=\"index\", inplace=True)\n",
    "\n",
    "except exc.SQLAlchemyError as e:\n",
    "    query = insert(logs_table)\n",
    "    query = query.values(err_code=e.__dict__[\"code\"], err_statement=e.__dict__[\"statement\"], err_msg=e.__dict__[\"orig\"], err_occur_dt=datetime.now().strftime(\"%d/%m/%Y %H:%M:%S\"))\n",
    "    engine.execute(query)\n",
    "\n",
    "db_credits.head()"
   ]
  },
  {
   "cell_type": "markdown",
   "id": "9e5b6044-ae5b-4063-9fd7-d50bd37d767e",
   "metadata": {},
   "source": [
    "## Get updated field data from json-server (with other tables)"
   ]
  },
  {
   "cell_type": "code",
   "execution_count": 11,
   "id": "f401380d-cee2-4455-8c64-a364c7fa7938",
   "metadata": {},
   "outputs": [],
   "source": [
    "import requests"
   ]
  },
  {
   "cell_type": "code",
   "execution_count": 12,
   "id": "ec4a75ea-f6b4-4011-811e-b47aca6004d6",
   "metadata": {},
   "outputs": [],
   "source": [
    "response = requests.get(\"http://localhost:3000/response\").text"
   ]
  },
  {
   "cell_type": "code",
   "execution_count": 27,
   "id": "381271a1-8f86-44e1-b946-b14637f61df7",
   "metadata": {
    "tags": []
   },
   "outputs": [
    {
     "data": {
      "text/plain": [
       "'{\\n  \"users\": [\\n    {\\n      \"id\": 1,\\n      \"created\": \"2022-07-16\",\\n      \"tckn\": \"5178249801\",\\n      \"username\": \"2349600692\",\\n      \"clarification_text\": true,\\n      \"user_agreement\": true,\\n      \"consent_text\": false,\\n      \"field\": []\\n    },\\n    {\\n      \"id\": 2,\\n      \"created\": \"2022-06-25\",\\n      \"tckn\": \"9862687290\",\\n      \"username\": \"2655382030\",\\n      \"clarification_text\": true,\\n      \"user_agreement\": true,\\n      \"consent_text\": true,\\n      \"field\": [\\n        {\\n          \"id\": 1,\\n          \"farm_name\": \"Paget\",\\n          \"lat\": 47.93520072,\\n          \"lng\": 13.710337028,\\n          \"area\": 95.535737494,\\n          \"plant\": \"Waterhyssop\",\\n          \"season_start_date\": \"2022-04-04 09:15:37\",\\n          \"season_end_date\": \"2022-05-15 20:20:36\"\\n        }\\n      ]\\n    },\\n    {\\n      \"id\": 3,\\n      \"created\": \"2022-06-05\",\\n      \"tckn\": \"5730841345\",\\n      \"username\": \"4979548189\",\\n      \"clarification_text\": false,\\n      \"user_agreement\": false,\\n      \"consent_text\": true,\\n      \"field\": [\\n        {\\n          \"id\": 1,\\n          \"farm_name\": \"Parkside\",\\n          \"lat\": 45.287717074,\\n          \"lng\": 58.064253139,\\n          \"area\": 24.12880332,\\n          \"plant\": \"Starhorn\",\\n          \"season_start_date\": \"2022-05-08 17:24:33\",\\n          \"season_end_date\": \"2022-07-29 05:36:34\"\\n        }\\n      ]\\n    },\\n    {\\n      \"id\": 4,\\n      \"created\": \"2022-05-22\",\\n      \"tckn\": \"6701194524\",\\n      \"username\": \"2213833846\",\\n      \"clarification_text\": false,\\n      \"user_agreement\": true,\\n      \"consent_text\": false,\\n      \"field\": []\\n    },\\n    {\\n      \"id\": 5,\\n      \"created\": \"2022-05-18\",\\n      \"tckn\": \"0139000380\",\\n      \"username\": \"4164911712\",\\n      \"clarification_text\": false,\\n      \"user_agreement\": true,\\n      \"consent_text\": true,\\n      \"field\": []\\n    },\\n    {\\n      \"id\": 6,\\n      \"created\": \"2022-07-18\",\\n      \"tckn\": \"3837556891\",\\n      \"username\": \"3179584399\",\\n      \"clarification_text\": true,\\n      \"user_agreement\": true,\\n      \"consent_text\": false,\\n      \"field\": [\\n        {\\n          \"id\": 1,\\n          \"farm_name\": \"3rd\",\\n          \"lat\": 48.529810885,\\n          \"lng\": 38.493641502,\\n          \"area\": 82.89315977,\\n          \"plant\": \"Salinas River Tarweed\",\\n          \"season_start_date\": \"2022-06-19 01:04:36\",\\n          \"season_end_date\": \"2022-07-16 06:14:16\"\\n        }\\n      ]\\n    },\\n    {\\n      \"id\": 7,\\n      \"created\": \"2022-04-24\",\\n      \"tckn\": \"1183755635\",\\n      \"username\": \"2423866368\",\\n      \"clarification_text\": false,\\n      \"user_agreeme'"
      ]
     },
     "execution_count": 27,
     "metadata": {},
     "output_type": "execute_result"
    }
   ],
   "source": [
    "response[0:2500]"
   ]
  },
  {
   "cell_type": "code",
   "execution_count": 14,
   "id": "eb17c45f-9d37-4d0c-98dd-ba640362ecb0",
   "metadata": {},
   "outputs": [],
   "source": [
    "import json"
   ]
  },
  {
   "cell_type": "code",
   "execution_count": 28,
   "id": "f62d5041-e954-4bf7-9fcd-2d290093468c",
   "metadata": {
    "tags": []
   },
   "outputs": [],
   "source": [
    "response_data = json.loads(response)"
   ]
  },
  {
   "cell_type": "code",
   "execution_count": 29,
   "id": "0ebd4e21-5211-4367-8438-f811b9d33c1d",
   "metadata": {},
   "outputs": [
    {
     "data": {
      "text/plain": [
       "dict"
      ]
     },
     "execution_count": 29,
     "metadata": {},
     "output_type": "execute_result"
    }
   ],
   "source": [
    "type(response_data)"
   ]
  },
  {
   "cell_type": "markdown",
   "id": "d3e50468-777d-4814-9a57-6bf0f59d4a0f",
   "metadata": {},
   "source": [
    "## Transform data to dataframe"
   ]
  },
  {
   "cell_type": "code",
   "execution_count": 18,
   "id": "6222ba47-fa5d-4a3a-9da6-8c1c9771e3c7",
   "metadata": {
    "tags": []
   },
   "outputs": [
    {
     "data": {
      "text/html": [
       "<div>\n",
       "<style scoped>\n",
       "    .dataframe tbody tr th:only-of-type {\n",
       "        vertical-align: middle;\n",
       "    }\n",
       "\n",
       "    .dataframe tbody tr th {\n",
       "        vertical-align: top;\n",
       "    }\n",
       "\n",
       "    .dataframe thead th {\n",
       "        text-align: right;\n",
       "    }\n",
       "</style>\n",
       "<table border=\"1\" class=\"dataframe\">\n",
       "  <thead>\n",
       "    <tr style=\"text-align: right;\">\n",
       "      <th></th>\n",
       "      <th>id</th>\n",
       "      <th>created</th>\n",
       "      <th>created_amount</th>\n",
       "      <th>demand_gsm</th>\n",
       "      <th>city</th>\n",
       "      <th>town</th>\n",
       "      <th>username</th>\n",
       "      <th>tckn</th>\n",
       "    </tr>\n",
       "  </thead>\n",
       "  <tbody>\n",
       "    <tr>\n",
       "      <th>996</th>\n",
       "      <td>997</td>\n",
       "      <td>2022-08-06</td>\n",
       "      <td>63442</td>\n",
       "      <td>4442317763</td>\n",
       "      <td>Sredno Konjare</td>\n",
       "      <td>9359 Pepper Wood Circle</td>\n",
       "      <td>8544500170</td>\n",
       "      <td>4484704420</td>\n",
       "    </tr>\n",
       "    <tr>\n",
       "      <th>997</th>\n",
       "      <td>998</td>\n",
       "      <td>2022-04-05</td>\n",
       "      <td>237525</td>\n",
       "      <td>8614334799</td>\n",
       "      <td>Bestovje</td>\n",
       "      <td>94223 Main Avenue</td>\n",
       "      <td>9977570318</td>\n",
       "      <td>2483996183</td>\n",
       "    </tr>\n",
       "    <tr>\n",
       "      <th>998</th>\n",
       "      <td>999</td>\n",
       "      <td>2022-04-11</td>\n",
       "      <td>162867</td>\n",
       "      <td>2798804299</td>\n",
       "      <td>Ozherel’ye</td>\n",
       "      <td>5 Rusk Pass</td>\n",
       "      <td>3512825209</td>\n",
       "      <td>8241399448</td>\n",
       "    </tr>\n",
       "    <tr>\n",
       "      <th>999</th>\n",
       "      <td>1000</td>\n",
       "      <td>2022-05-17</td>\n",
       "      <td>191970</td>\n",
       "      <td>8528855960</td>\n",
       "      <td>Babao</td>\n",
       "      <td>6031 Gale Alley</td>\n",
       "      <td>4174718589</td>\n",
       "      <td>7070702329</td>\n",
       "    </tr>\n",
       "    <tr>\n",
       "      <th>1000</th>\n",
       "      <td>1001</td>\n",
       "      <td>2022-05-17</td>\n",
       "      <td>191970</td>\n",
       "      <td>8528855960</td>\n",
       "      <td>test</td>\n",
       "      <td>6031 Gale Alley</td>\n",
       "      <td>4174718589</td>\n",
       "      <td>7070702329</td>\n",
       "    </tr>\n",
       "  </tbody>\n",
       "</table>\n",
       "</div>"
      ],
      "text/plain": [
       "        id     created  created_amount  demand_gsm            city  \\\n",
       "996    997  2022-08-06           63442  4442317763  Sredno Konjare   \n",
       "997    998  2022-04-05          237525  8614334799        Bestovje   \n",
       "998    999  2022-04-11          162867  2798804299      Ozherel’ye   \n",
       "999   1000  2022-05-17          191970  8528855960           Babao   \n",
       "1000  1001  2022-05-17          191970  8528855960            test   \n",
       "\n",
       "                         town    username        tckn  \n",
       "996   9359 Pepper Wood Circle  8544500170  4484704420  \n",
       "997         94223 Main Avenue  9977570318  2483996183  \n",
       "998               5 Rusk Pass  3512825209  8241399448  \n",
       "999           6031 Gale Alley  4174718589  7070702329  \n",
       "1000          6031 Gale Alley  4174718589  7070702329  "
      ]
     },
     "execution_count": 18,
     "metadata": {},
     "output_type": "execute_result"
    }
   ],
   "source": [
    "response_credits = pd.DataFrame(response_data[\"credits\"])\n",
    "response_credits.tail()"
   ]
  },
  {
   "cell_type": "code",
   "execution_count": 19,
   "id": "c364a0fe-acdc-4633-b676-66b1df380d03",
   "metadata": {
    "tags": []
   },
   "outputs": [
    {
     "data": {
      "text/html": [
       "<div>\n",
       "<style scoped>\n",
       "    .dataframe tbody tr th:only-of-type {\n",
       "        vertical-align: middle;\n",
       "    }\n",
       "\n",
       "    .dataframe tbody tr th {\n",
       "        vertical-align: top;\n",
       "    }\n",
       "\n",
       "    .dataframe thead th {\n",
       "        text-align: right;\n",
       "    }\n",
       "</style>\n",
       "<table border=\"1\" class=\"dataframe\">\n",
       "  <thead>\n",
       "    <tr style=\"text-align: right;\">\n",
       "      <th></th>\n",
       "      <th>id</th>\n",
       "      <th>created</th>\n",
       "      <th>tckn</th>\n",
       "      <th>username</th>\n",
       "      <th>clarification_text</th>\n",
       "      <th>user_agreement</th>\n",
       "      <th>consent_text</th>\n",
       "      <th>field</th>\n",
       "    </tr>\n",
       "  </thead>\n",
       "  <tbody>\n",
       "    <tr>\n",
       "      <th>0</th>\n",
       "      <td>1</td>\n",
       "      <td>2022-07-16</td>\n",
       "      <td>5178249801</td>\n",
       "      <td>2349600692</td>\n",
       "      <td>True</td>\n",
       "      <td>True</td>\n",
       "      <td>False</td>\n",
       "      <td>[]</td>\n",
       "    </tr>\n",
       "    <tr>\n",
       "      <th>1</th>\n",
       "      <td>2</td>\n",
       "      <td>2022-06-25</td>\n",
       "      <td>9862687290</td>\n",
       "      <td>2655382030</td>\n",
       "      <td>True</td>\n",
       "      <td>True</td>\n",
       "      <td>True</td>\n",
       "      <td>[{'id': 1, 'farm_name': 'Paget', 'lat': 47.935...</td>\n",
       "    </tr>\n",
       "    <tr>\n",
       "      <th>2</th>\n",
       "      <td>3</td>\n",
       "      <td>2022-06-05</td>\n",
       "      <td>5730841345</td>\n",
       "      <td>4979548189</td>\n",
       "      <td>False</td>\n",
       "      <td>False</td>\n",
       "      <td>True</td>\n",
       "      <td>[{'id': 1, 'farm_name': 'Parkside', 'lat': 45....</td>\n",
       "    </tr>\n",
       "    <tr>\n",
       "      <th>3</th>\n",
       "      <td>4</td>\n",
       "      <td>2022-05-22</td>\n",
       "      <td>6701194524</td>\n",
       "      <td>2213833846</td>\n",
       "      <td>False</td>\n",
       "      <td>True</td>\n",
       "      <td>False</td>\n",
       "      <td>[]</td>\n",
       "    </tr>\n",
       "    <tr>\n",
       "      <th>4</th>\n",
       "      <td>5</td>\n",
       "      <td>2022-05-18</td>\n",
       "      <td>0139000380</td>\n",
       "      <td>4164911712</td>\n",
       "      <td>False</td>\n",
       "      <td>True</td>\n",
       "      <td>True</td>\n",
       "      <td>[]</td>\n",
       "    </tr>\n",
       "  </tbody>\n",
       "</table>\n",
       "</div>"
      ],
      "text/plain": [
       "   id     created        tckn    username  clarification_text  user_agreement  \\\n",
       "0   1  2022-07-16  5178249801  2349600692                True            True   \n",
       "1   2  2022-06-25  9862687290  2655382030                True            True   \n",
       "2   3  2022-06-05  5730841345  4979548189               False           False   \n",
       "3   4  2022-05-22  6701194524  2213833846               False            True   \n",
       "4   5  2022-05-18  0139000380  4164911712               False            True   \n",
       "\n",
       "   consent_text                                              field  \n",
       "0         False                                                 []  \n",
       "1          True  [{'id': 1, 'farm_name': 'Paget', 'lat': 47.935...  \n",
       "2          True  [{'id': 1, 'farm_name': 'Parkside', 'lat': 45....  \n",
       "3         False                                                 []  \n",
       "4          True                                                 []  "
      ]
     },
     "execution_count": 19,
     "metadata": {},
     "output_type": "execute_result"
    }
   ],
   "source": [
    "response_users = pd.DataFrame(response_data[\"users\"])\n",
    "response_users.head()"
   ]
  },
  {
   "cell_type": "code",
   "execution_count": 30,
   "id": "63bbefba-de3e-4a27-b794-aad15e4a408d",
   "metadata": {
    "tags": []
   },
   "outputs": [],
   "source": [
    "field_list = list()\n",
    "for i in range(len(response_data[\"users\"])):\n",
    "    field_list.append(response_data[\"users\"][i][\"field\"])"
   ]
  },
  {
   "cell_type": "code",
   "execution_count": 31,
   "id": "48b39122-74d8-4c80-93c0-07ae42b71be0",
   "metadata": {
    "tags": []
   },
   "outputs": [],
   "source": [
    "for i in range(len(field_list)):\n",
    "    if len(field_list[i]) == 0:\n",
    "        field_list[i] = [{'id': \"\",\n",
    "        'farm_name': '',\n",
    "        'lat': \"\",\n",
    "        'lng': \"\",\n",
    "        'area': \"\",\n",
    "        'plant': '',\n",
    "        'season_start_date': '',\n",
    "        'season_end_date': ''}]\n",
    "    else:\n",
    "        continue"
   ]
  },
  {
   "cell_type": "code",
   "execution_count": 22,
   "id": "da09ceb1-4557-462d-a610-53468b8b9527",
   "metadata": {
    "tags": []
   },
   "outputs": [
    {
     "data": {
      "text/plain": [
       "[{'id': 1,\n",
       "  'farm_name': 'test',\n",
       "  'lat': 21.24518213,\n",
       "  'lng': 11.894639177,\n",
       "  'area': 44.215076979,\n",
       "  'plant': 'Arrowleaf Balsamroot',\n",
       "  'season_start_date': '2022-05-05 20:00:53',\n",
       "  'season_end_date': '2022-05-27 10:30:38'}]"
      ]
     },
     "execution_count": 22,
     "metadata": {},
     "output_type": "execute_result"
    }
   ],
   "source": [
    "field_list[1000]"
   ]
  },
  {
   "cell_type": "code",
   "execution_count": 24,
   "id": "77084d7e-5207-4a91-8e45-cf6ed75dc02b",
   "metadata": {},
   "outputs": [
    {
     "data": {
      "text/html": [
       "<div>\n",
       "<style scoped>\n",
       "    .dataframe tbody tr th:only-of-type {\n",
       "        vertical-align: middle;\n",
       "    }\n",
       "\n",
       "    .dataframe tbody tr th {\n",
       "        vertical-align: top;\n",
       "    }\n",
       "\n",
       "    .dataframe thead th {\n",
       "        text-align: right;\n",
       "    }\n",
       "</style>\n",
       "<table border=\"1\" class=\"dataframe\">\n",
       "  <thead>\n",
       "    <tr style=\"text-align: right;\">\n",
       "      <th></th>\n",
       "      <th>id</th>\n",
       "      <th>farm_name</th>\n",
       "      <th>lat</th>\n",
       "      <th>lng</th>\n",
       "      <th>area</th>\n",
       "      <th>plant</th>\n",
       "      <th>season_start_date</th>\n",
       "      <th>season_end_date</th>\n",
       "    </tr>\n",
       "  </thead>\n",
       "  <tbody>\n",
       "    <tr>\n",
       "      <th>996</th>\n",
       "      <td></td>\n",
       "      <td></td>\n",
       "      <td></td>\n",
       "      <td></td>\n",
       "      <td></td>\n",
       "      <td></td>\n",
       "      <td></td>\n",
       "      <td></td>\n",
       "    </tr>\n",
       "    <tr>\n",
       "      <th>997</th>\n",
       "      <td>1</td>\n",
       "      <td>Hudson</td>\n",
       "      <td>23.005947212</td>\n",
       "      <td>49.463256116</td>\n",
       "      <td>58.316422576</td>\n",
       "      <td>Nipple Beach Phacelia</td>\n",
       "      <td>2022-06-07 17:28:40</td>\n",
       "      <td>2022-04-13 13:08:47</td>\n",
       "    </tr>\n",
       "    <tr>\n",
       "      <th>998</th>\n",
       "      <td>1</td>\n",
       "      <td>Waxwing</td>\n",
       "      <td>36.454989371</td>\n",
       "      <td>90.576276314</td>\n",
       "      <td>43.760100669</td>\n",
       "      <td>Sensitive Jointvetch</td>\n",
       "      <td>2022-07-28 01:39:52</td>\n",
       "      <td>2022-04-29 01:37:50</td>\n",
       "    </tr>\n",
       "    <tr>\n",
       "      <th>999</th>\n",
       "      <td>1</td>\n",
       "      <td>Kipling</td>\n",
       "      <td>21.24518213</td>\n",
       "      <td>11.894639177</td>\n",
       "      <td>44.215076979</td>\n",
       "      <td>Arrowleaf Balsamroot</td>\n",
       "      <td>2022-05-05 20:00:53</td>\n",
       "      <td>2022-05-27 10:30:38</td>\n",
       "    </tr>\n",
       "    <tr>\n",
       "      <th>1000</th>\n",
       "      <td>1</td>\n",
       "      <td>test</td>\n",
       "      <td>21.24518213</td>\n",
       "      <td>11.894639177</td>\n",
       "      <td>44.215076979</td>\n",
       "      <td>Arrowleaf Balsamroot</td>\n",
       "      <td>2022-05-05 20:00:53</td>\n",
       "      <td>2022-05-27 10:30:38</td>\n",
       "    </tr>\n",
       "  </tbody>\n",
       "</table>\n",
       "</div>"
      ],
      "text/plain": [
       "     id farm_name           lat           lng          area  \\\n",
       "996                                                           \n",
       "997   1    Hudson  23.005947212  49.463256116  58.316422576   \n",
       "998   1   Waxwing  36.454989371  90.576276314  43.760100669   \n",
       "999   1   Kipling   21.24518213  11.894639177  44.215076979   \n",
       "1000  1      test   21.24518213  11.894639177  44.215076979   \n",
       "\n",
       "                      plant    season_start_date      season_end_date  \n",
       "996                                                                    \n",
       "997   Nipple Beach Phacelia  2022-06-07 17:28:40  2022-04-13 13:08:47  \n",
       "998    Sensitive Jointvetch  2022-07-28 01:39:52  2022-04-29 01:37:50  \n",
       "999    Arrowleaf Balsamroot  2022-05-05 20:00:53  2022-05-27 10:30:38  \n",
       "1000   Arrowleaf Balsamroot  2022-05-05 20:00:53  2022-05-27 10:30:38  "
      ]
     },
     "execution_count": 24,
     "metadata": {},
     "output_type": "execute_result"
    }
   ],
   "source": [
    "response_fields = pd.DataFrame(list(chain.from_iterable(field_list)))\n",
    "response_fields.tail()"
   ]
  },
  {
   "cell_type": "code",
   "execution_count": 25,
   "id": "9da9974d-3b27-41c8-9e0e-daadbc69b343",
   "metadata": {
    "tags": []
   },
   "outputs": [
    {
     "data": {
      "text/html": [
       "<div>\n",
       "<style scoped>\n",
       "    .dataframe tbody tr th:only-of-type {\n",
       "        vertical-align: middle;\n",
       "    }\n",
       "\n",
       "    .dataframe tbody tr th {\n",
       "        vertical-align: top;\n",
       "    }\n",
       "\n",
       "    .dataframe thead th {\n",
       "        text-align: right;\n",
       "    }\n",
       "</style>\n",
       "<table border=\"1\" class=\"dataframe\">\n",
       "  <thead>\n",
       "    <tr style=\"text-align: right;\">\n",
       "      <th></th>\n",
       "      <th>id</th>\n",
       "      <th>farm_name</th>\n",
       "      <th>lat</th>\n",
       "      <th>lng</th>\n",
       "      <th>area</th>\n",
       "      <th>plant</th>\n",
       "      <th>season_start_date</th>\n",
       "      <th>season_end_date</th>\n",
       "      <th>user_id</th>\n",
       "    </tr>\n",
       "  </thead>\n",
       "  <tbody>\n",
       "    <tr>\n",
       "      <th>996</th>\n",
       "      <td></td>\n",
       "      <td></td>\n",
       "      <td></td>\n",
       "      <td></td>\n",
       "      <td></td>\n",
       "      <td></td>\n",
       "      <td></td>\n",
       "      <td></td>\n",
       "      <td>997</td>\n",
       "    </tr>\n",
       "    <tr>\n",
       "      <th>997</th>\n",
       "      <td>1</td>\n",
       "      <td>Hudson</td>\n",
       "      <td>23.005947212</td>\n",
       "      <td>49.463256116</td>\n",
       "      <td>58.316422576</td>\n",
       "      <td>Nipple Beach Phacelia</td>\n",
       "      <td>2022-06-07 17:28:40</td>\n",
       "      <td>2022-04-13 13:08:47</td>\n",
       "      <td>998</td>\n",
       "    </tr>\n",
       "    <tr>\n",
       "      <th>998</th>\n",
       "      <td>1</td>\n",
       "      <td>Waxwing</td>\n",
       "      <td>36.454989371</td>\n",
       "      <td>90.576276314</td>\n",
       "      <td>43.760100669</td>\n",
       "      <td>Sensitive Jointvetch</td>\n",
       "      <td>2022-07-28 01:39:52</td>\n",
       "      <td>2022-04-29 01:37:50</td>\n",
       "      <td>999</td>\n",
       "    </tr>\n",
       "    <tr>\n",
       "      <th>999</th>\n",
       "      <td>1</td>\n",
       "      <td>Kipling</td>\n",
       "      <td>21.24518213</td>\n",
       "      <td>11.894639177</td>\n",
       "      <td>44.215076979</td>\n",
       "      <td>Arrowleaf Balsamroot</td>\n",
       "      <td>2022-05-05 20:00:53</td>\n",
       "      <td>2022-05-27 10:30:38</td>\n",
       "      <td>1000</td>\n",
       "    </tr>\n",
       "    <tr>\n",
       "      <th>1000</th>\n",
       "      <td>1</td>\n",
       "      <td>test</td>\n",
       "      <td>21.24518213</td>\n",
       "      <td>11.894639177</td>\n",
       "      <td>44.215076979</td>\n",
       "      <td>Arrowleaf Balsamroot</td>\n",
       "      <td>2022-05-05 20:00:53</td>\n",
       "      <td>2022-05-27 10:30:38</td>\n",
       "      <td>1001</td>\n",
       "    </tr>\n",
       "  </tbody>\n",
       "</table>\n",
       "</div>"
      ],
      "text/plain": [
       "     id farm_name           lat           lng          area  \\\n",
       "996                                                           \n",
       "997   1    Hudson  23.005947212  49.463256116  58.316422576   \n",
       "998   1   Waxwing  36.454989371  90.576276314  43.760100669   \n",
       "999   1   Kipling   21.24518213  11.894639177  44.215076979   \n",
       "1000  1      test   21.24518213  11.894639177  44.215076979   \n",
       "\n",
       "                      plant    season_start_date      season_end_date  user_id  \n",
       "996                                                                        997  \n",
       "997   Nipple Beach Phacelia  2022-06-07 17:28:40  2022-04-13 13:08:47      998  \n",
       "998    Sensitive Jointvetch  2022-07-28 01:39:52  2022-04-29 01:37:50      999  \n",
       "999    Arrowleaf Balsamroot  2022-05-05 20:00:53  2022-05-27 10:30:38     1000  \n",
       "1000   Arrowleaf Balsamroot  2022-05-05 20:00:53  2022-05-27 10:30:38     1001  "
      ]
     },
     "execution_count": 25,
     "metadata": {},
     "output_type": "execute_result"
    }
   ],
   "source": [
    "response_fields[\"user_id\"] = response_users[\"id\"]\n",
    "response_fields.tail()"
   ]
  },
  {
   "cell_type": "code",
   "execution_count": 26,
   "id": "bf699f82-3550-482f-bdcb-cc388d172c7d",
   "metadata": {},
   "outputs": [
    {
     "data": {
      "text/html": [
       "<div>\n",
       "<style scoped>\n",
       "    .dataframe tbody tr th:only-of-type {\n",
       "        vertical-align: middle;\n",
       "    }\n",
       "\n",
       "    .dataframe tbody tr th {\n",
       "        vertical-align: top;\n",
       "    }\n",
       "\n",
       "    .dataframe thead th {\n",
       "        text-align: right;\n",
       "    }\n",
       "</style>\n",
       "<table border=\"1\" class=\"dataframe\">\n",
       "  <thead>\n",
       "    <tr style=\"text-align: right;\">\n",
       "      <th></th>\n",
       "      <th>id</th>\n",
       "      <th>farm_name</th>\n",
       "      <th>lat</th>\n",
       "      <th>lng</th>\n",
       "      <th>area</th>\n",
       "      <th>plant</th>\n",
       "      <th>season_start_date</th>\n",
       "      <th>season_end_date</th>\n",
       "      <th>user_id</th>\n",
       "    </tr>\n",
       "  </thead>\n",
       "  <tbody>\n",
       "    <tr>\n",
       "      <th>995</th>\n",
       "      <td></td>\n",
       "      <td></td>\n",
       "      <td></td>\n",
       "      <td></td>\n",
       "      <td></td>\n",
       "      <td></td>\n",
       "      <td></td>\n",
       "      <td></td>\n",
       "      <td>996</td>\n",
       "    </tr>\n",
       "    <tr>\n",
       "      <th>996</th>\n",
       "      <td></td>\n",
       "      <td></td>\n",
       "      <td></td>\n",
       "      <td></td>\n",
       "      <td></td>\n",
       "      <td></td>\n",
       "      <td></td>\n",
       "      <td></td>\n",
       "      <td>997</td>\n",
       "    </tr>\n",
       "    <tr>\n",
       "      <th>997</th>\n",
       "      <td>1</td>\n",
       "      <td>Hudson</td>\n",
       "      <td>23.005947212</td>\n",
       "      <td>49.463256116</td>\n",
       "      <td>58.316422576</td>\n",
       "      <td>Nipple Beach Phacelia</td>\n",
       "      <td>2022-06-07 17:28:40</td>\n",
       "      <td>2022-04-13 13:08:47</td>\n",
       "      <td>998</td>\n",
       "    </tr>\n",
       "    <tr>\n",
       "      <th>998</th>\n",
       "      <td>1</td>\n",
       "      <td>Waxwing</td>\n",
       "      <td>36.454989371</td>\n",
       "      <td>90.576276314</td>\n",
       "      <td>43.760100669</td>\n",
       "      <td>Sensitive Jointvetch</td>\n",
       "      <td>2022-07-28 01:39:52</td>\n",
       "      <td>2022-04-29 01:37:50</td>\n",
       "      <td>999</td>\n",
       "    </tr>\n",
       "    <tr>\n",
       "      <th>999</th>\n",
       "      <td>1</td>\n",
       "      <td>Kipling</td>\n",
       "      <td>21.24518213</td>\n",
       "      <td>11.894639177</td>\n",
       "      <td>44.215076979</td>\n",
       "      <td>Arrowleaf Balsamroot</td>\n",
       "      <td>2022-05-05 20:00:53</td>\n",
       "      <td>2022-05-27 10:30:38</td>\n",
       "      <td>1000</td>\n",
       "    </tr>\n",
       "  </tbody>\n",
       "</table>\n",
       "</div>"
      ],
      "text/plain": [
       "    id farm_name           lat           lng          area  \\\n",
       "995                                                          \n",
       "996                                                          \n",
       "997  1    Hudson  23.005947212  49.463256116  58.316422576   \n",
       "998  1   Waxwing  36.454989371  90.576276314  43.760100669   \n",
       "999  1   Kipling   21.24518213  11.894639177  44.215076979   \n",
       "\n",
       "                     plant    season_start_date      season_end_date  user_id  \n",
       "995                                                                       996  \n",
       "996                                                                       997  \n",
       "997  Nipple Beach Phacelia  2022-06-07 17:28:40  2022-04-13 13:08:47      998  \n",
       "998   Sensitive Jointvetch  2022-07-28 01:39:52  2022-04-29 01:37:50      999  \n",
       "999   Arrowleaf Balsamroot  2022-05-05 20:00:53  2022-05-27 10:30:38     1000  "
      ]
     },
     "execution_count": 26,
     "metadata": {},
     "output_type": "execute_result"
    }
   ],
   "source": [
    "db_fields.tail()"
   ]
  },
  {
   "cell_type": "code",
   "execution_count": 27,
   "id": "cb2e3bd8-ba5a-420f-8c1f-d8907d0338b2",
   "metadata": {
    "tags": []
   },
   "outputs": [],
   "source": [
    "response_users.drop(columns=\"field\", axis=1, inplace=True)"
   ]
  },
  {
   "cell_type": "markdown",
   "id": "beebe7cf-82a5-4f24-ab8e-ee4fdba88ae5",
   "metadata": {},
   "source": [
    "# Add or update new users to users table db"
   ]
  },
  {
   "cell_type": "code",
   "execution_count": null,
   "id": "b56ec9e4-3a8a-4ca0-9955-3e807e7e7e16",
   "metadata": {},
   "outputs": [
    {
     "data": {
      "text/html": [
       "<div>\n",
       "<style scoped>\n",
       "    .dataframe tbody tr th:only-of-type {\n",
       "        vertical-align: middle;\n",
       "    }\n",
       "\n",
       "    .dataframe tbody tr th {\n",
       "        vertical-align: top;\n",
       "    }\n",
       "\n",
       "    .dataframe thead th {\n",
       "        text-align: right;\n",
       "    }\n",
       "</style>\n",
       "<table border=\"1\" class=\"dataframe\">\n",
       "  <thead>\n",
       "    <tr style=\"text-align: right;\">\n",
       "      <th></th>\n",
       "      <th>id</th>\n",
       "      <th>created</th>\n",
       "      <th>tckn</th>\n",
       "      <th>username</th>\n",
       "      <th>clarification_text</th>\n",
       "      <th>user_agreement</th>\n",
       "      <th>consent_text</th>\n",
       "    </tr>\n",
       "  </thead>\n",
       "  <tbody>\n",
       "    <tr>\n",
       "      <th>996</th>\n",
       "      <td>997</td>\n",
       "      <td>2022-06-01</td>\n",
       "      <td>1350349720</td>\n",
       "      <td>2926523977</td>\n",
       "      <td>False</td>\n",
       "      <td>False</td>\n",
       "      <td>True</td>\n",
       "    </tr>\n",
       "    <tr>\n",
       "      <th>997</th>\n",
       "      <td>998</td>\n",
       "      <td>2022-06-21</td>\n",
       "      <td>8251686687</td>\n",
       "      <td>3958233692</td>\n",
       "      <td>False</td>\n",
       "      <td>False</td>\n",
       "      <td>False</td>\n",
       "    </tr>\n",
       "    <tr>\n",
       "      <th>998</th>\n",
       "      <td>999</td>\n",
       "      <td>2022-06-14</td>\n",
       "      <td>0148120490</td>\n",
       "      <td>5294376554</td>\n",
       "      <td>True</td>\n",
       "      <td>False</td>\n",
       "      <td>True</td>\n",
       "    </tr>\n",
       "    <tr>\n",
       "      <th>999</th>\n",
       "      <td>1000</td>\n",
       "      <td>2022-05-28</td>\n",
       "      <td>6381771585</td>\n",
       "      <td>7877236549</td>\n",
       "      <td>True</td>\n",
       "      <td>False</td>\n",
       "      <td>False</td>\n",
       "    </tr>\n",
       "    <tr>\n",
       "      <th>1000</th>\n",
       "      <td>1001</td>\n",
       "      <td>2022-05-28</td>\n",
       "      <td>6381771585</td>\n",
       "      <td>7877236549</td>\n",
       "      <td>True</td>\n",
       "      <td>False</td>\n",
       "      <td>True</td>\n",
       "    </tr>\n",
       "  </tbody>\n",
       "</table>\n",
       "</div>"
      ],
      "text/plain": [
       "        id     created        tckn    username  clarification_text  \\\n",
       "996    997  2022-06-01  1350349720  2926523977               False   \n",
       "997    998  2022-06-21  8251686687  3958233692               False   \n",
       "998    999  2022-06-14  0148120490  5294376554                True   \n",
       "999   1000  2022-05-28  6381771585  7877236549                True   \n",
       "1000  1001  2022-05-28  6381771585  7877236549                True   \n",
       "\n",
       "      user_agreement  consent_text  \n",
       "996            False          True  \n",
       "997            False         False  \n",
       "998            False          True  \n",
       "999            False         False  \n",
       "1000           False          True  "
      ]
     },
     "execution_count": 28,
     "metadata": {},
     "output_type": "execute_result"
    }
   ],
   "source": [
    "response_users.tail()"
   ]
  },
  {
   "cell_type": "code",
   "execution_count": null,
   "id": "66e0e7ed-d8c9-457c-93b5-48daac526305",
   "metadata": {},
   "outputs": [
    {
     "data": {
      "text/html": [
       "<div>\n",
       "<style scoped>\n",
       "    .dataframe tbody tr th:only-of-type {\n",
       "        vertical-align: middle;\n",
       "    }\n",
       "\n",
       "    .dataframe tbody tr th {\n",
       "        vertical-align: top;\n",
       "    }\n",
       "\n",
       "    .dataframe thead th {\n",
       "        text-align: right;\n",
       "    }\n",
       "</style>\n",
       "<table border=\"1\" class=\"dataframe\">\n",
       "  <thead>\n",
       "    <tr style=\"text-align: right;\">\n",
       "      <th></th>\n",
       "      <th>id</th>\n",
       "      <th>created</th>\n",
       "      <th>tckn</th>\n",
       "      <th>username</th>\n",
       "      <th>clarification_text</th>\n",
       "      <th>user_agreement</th>\n",
       "      <th>consent_text</th>\n",
       "    </tr>\n",
       "  </thead>\n",
       "  <tbody>\n",
       "    <tr>\n",
       "      <th>995</th>\n",
       "      <td>996</td>\n",
       "      <td>2022-07-30</td>\n",
       "      <td>8517648897</td>\n",
       "      <td>9505171172</td>\n",
       "      <td>0</td>\n",
       "      <td>0</td>\n",
       "      <td>1</td>\n",
       "    </tr>\n",
       "    <tr>\n",
       "      <th>996</th>\n",
       "      <td>997</td>\n",
       "      <td>2022-06-01</td>\n",
       "      <td>1350349720</td>\n",
       "      <td>2926523977</td>\n",
       "      <td>0</td>\n",
       "      <td>0</td>\n",
       "      <td>1</td>\n",
       "    </tr>\n",
       "    <tr>\n",
       "      <th>997</th>\n",
       "      <td>998</td>\n",
       "      <td>2022-06-21</td>\n",
       "      <td>8251686687</td>\n",
       "      <td>3958233692</td>\n",
       "      <td>0</td>\n",
       "      <td>0</td>\n",
       "      <td>0</td>\n",
       "    </tr>\n",
       "    <tr>\n",
       "      <th>998</th>\n",
       "      <td>999</td>\n",
       "      <td>2022-06-14</td>\n",
       "      <td>0148120490</td>\n",
       "      <td>5294376554</td>\n",
       "      <td>1</td>\n",
       "      <td>0</td>\n",
       "      <td>1</td>\n",
       "    </tr>\n",
       "    <tr>\n",
       "      <th>999</th>\n",
       "      <td>1000</td>\n",
       "      <td>2022-05-28</td>\n",
       "      <td>6381771585</td>\n",
       "      <td>7877236549</td>\n",
       "      <td>1</td>\n",
       "      <td>0</td>\n",
       "      <td>0</td>\n",
       "    </tr>\n",
       "  </tbody>\n",
       "</table>\n",
       "</div>"
      ],
      "text/plain": [
       "       id     created        tckn    username  clarification_text  \\\n",
       "995   996  2022-07-30  8517648897  9505171172                   0   \n",
       "996   997  2022-06-01  1350349720  2926523977                   0   \n",
       "997   998  2022-06-21  8251686687  3958233692                   0   \n",
       "998   999  2022-06-14  0148120490  5294376554                   1   \n",
       "999  1000  2022-05-28  6381771585  7877236549                   1   \n",
       "\n",
       "     user_agreement  consent_text  \n",
       "995               0             1  \n",
       "996               0             1  \n",
       "997               0             0  \n",
       "998               0             1  \n",
       "999               0             0  "
      ]
     },
     "execution_count": 29,
     "metadata": {},
     "output_type": "execute_result"
    }
   ],
   "source": [
    "db_users.tail()"
   ]
  },
  {
   "cell_type": "code",
   "execution_count": null,
   "id": "50da2fb2-2c00-48f2-aa58-3d00b073623d",
   "metadata": {},
   "outputs": [],
   "source": [
    "import numpy as np"
   ]
  },
  {
   "cell_type": "code",
   "execution_count": null,
   "id": "ba4ebe66-4146-46ec-9114-27a3cfc4591e",
   "metadata": {},
   "outputs": [],
   "source": [
    "response_users.iloc[3,4] = True"
   ]
  },
  {
   "cell_type": "code",
   "execution_count": null,
   "id": "0c777fb8-155d-49b6-8bfd-510e31d49ccf",
   "metadata": {},
   "outputs": [],
   "source": [
    "users_diff = response_users[~response_users.apply(tuple,1).isin(db_users.apply(tuple,1))]"
   ]
  },
  {
   "cell_type": "code",
   "execution_count": null,
   "id": "32fcbe27-6198-4264-bf38-cc54be54fdc6",
   "metadata": {},
   "outputs": [
    {
     "data": {
      "text/html": [
       "<div>\n",
       "<style scoped>\n",
       "    .dataframe tbody tr th:only-of-type {\n",
       "        vertical-align: middle;\n",
       "    }\n",
       "\n",
       "    .dataframe tbody tr th {\n",
       "        vertical-align: top;\n",
       "    }\n",
       "\n",
       "    .dataframe thead th {\n",
       "        text-align: right;\n",
       "    }\n",
       "</style>\n",
       "<table border=\"1\" class=\"dataframe\">\n",
       "  <thead>\n",
       "    <tr style=\"text-align: right;\">\n",
       "      <th></th>\n",
       "      <th>id</th>\n",
       "      <th>created</th>\n",
       "      <th>tckn</th>\n",
       "      <th>username</th>\n",
       "      <th>clarification_text</th>\n",
       "      <th>user_agreement</th>\n",
       "      <th>consent_text</th>\n",
       "    </tr>\n",
       "  </thead>\n",
       "  <tbody>\n",
       "    <tr>\n",
       "      <th>1000</th>\n",
       "      <td>1001</td>\n",
       "      <td>2022-05-28</td>\n",
       "      <td>6381771585</td>\n",
       "      <td>7877236549</td>\n",
       "      <td>True</td>\n",
       "      <td>False</td>\n",
       "      <td>True</td>\n",
       "    </tr>\n",
       "  </tbody>\n",
       "</table>\n",
       "</div>"
      ],
      "text/plain": [
       "        id     created        tckn    username  clarification_text  \\\n",
       "1000  1001  2022-05-28  6381771585  7877236549                True   \n",
       "\n",
       "      user_agreement  consent_text  \n",
       "1000           False          True  "
      ]
     },
     "execution_count": 32,
     "metadata": {},
     "output_type": "execute_result"
    }
   ],
   "source": [
    "users_diff.head()"
   ]
  },
  {
   "cell_type": "markdown",
   "id": "91672605-18e4-48cf-8b1b-f5a4ade4f826",
   "metadata": {},
   "source": [
    "## Because of type mismatches, we preprocess the compared data before updating db. (users)"
   ]
  },
  {
   "cell_type": "code",
   "execution_count": null,
   "id": "43f3f3fc-3c83-4585-9a9f-3ceb2ddf412e",
   "metadata": {
    "collapsed": true,
    "jupyter": {
     "outputs_hidden": true
    },
    "tags": []
   },
   "outputs": [
    {
     "name": "stderr",
     "output_type": "stream",
     "text": [
      "C:\\Users\\Furka\\anaconda3\\lib\\site-packages\\pandas\\core\\generic.py:5516: SettingWithCopyWarning: \n",
      "A value is trying to be set on a copy of a slice from a DataFrame.\n",
      "Try using .loc[row_indexer,col_indexer] = value instead\n",
      "\n",
      "See the caveats in the documentation: https://pandas.pydata.org/pandas-docs/stable/user_guide/indexing.html#returning-a-view-versus-a-copy\n",
      "  self[name] = value\n"
     ]
    }
   ],
   "source": [
    "users_diff.clarification_text = users_diff.clarification_text.astype(int)"
   ]
  },
  {
   "cell_type": "code",
   "execution_count": null,
   "id": "3bc43350-f100-4ce0-b0f1-43dc75bf6ead",
   "metadata": {},
   "outputs": [],
   "source": [
    "users_diff.user_agreement = users_diff.user_agreement.astype(int)"
   ]
  },
  {
   "cell_type": "code",
   "execution_count": null,
   "id": "e5c3e7d0-161e-47d3-8630-0f3681051bc5",
   "metadata": {},
   "outputs": [],
   "source": [
    "users_diff.consent_text = users_diff.consent_text.astype(int)"
   ]
  },
  {
   "cell_type": "code",
   "execution_count": null,
   "id": "fca1d147-c605-4182-81ec-d57a4db4b256",
   "metadata": {},
   "outputs": [
    {
     "data": {
      "text/html": [
       "<div>\n",
       "<style scoped>\n",
       "    .dataframe tbody tr th:only-of-type {\n",
       "        vertical-align: middle;\n",
       "    }\n",
       "\n",
       "    .dataframe tbody tr th {\n",
       "        vertical-align: top;\n",
       "    }\n",
       "\n",
       "    .dataframe thead th {\n",
       "        text-align: right;\n",
       "    }\n",
       "</style>\n",
       "<table border=\"1\" class=\"dataframe\">\n",
       "  <thead>\n",
       "    <tr style=\"text-align: right;\">\n",
       "      <th></th>\n",
       "      <th>id</th>\n",
       "      <th>created</th>\n",
       "      <th>tckn</th>\n",
       "      <th>username</th>\n",
       "      <th>clarification_text</th>\n",
       "      <th>user_agreement</th>\n",
       "      <th>consent_text</th>\n",
       "    </tr>\n",
       "  </thead>\n",
       "  <tbody>\n",
       "    <tr>\n",
       "      <th>1000</th>\n",
       "      <td>1001</td>\n",
       "      <td>2022-05-28</td>\n",
       "      <td>6381771585</td>\n",
       "      <td>7877236549</td>\n",
       "      <td>1</td>\n",
       "      <td>0</td>\n",
       "      <td>1</td>\n",
       "    </tr>\n",
       "  </tbody>\n",
       "</table>\n",
       "</div>"
      ],
      "text/plain": [
       "        id     created        tckn    username  clarification_text  \\\n",
       "1000  1001  2022-05-28  6381771585  7877236549                   1   \n",
       "\n",
       "      user_agreement  consent_text  \n",
       "1000               0             1  "
      ]
     },
     "execution_count": 36,
     "metadata": {},
     "output_type": "execute_result"
    }
   ],
   "source": [
    "users_diff.head()"
   ]
  },
  {
   "cell_type": "code",
   "execution_count": null,
   "id": "8458424b-2c1e-40f9-8b65-51dc9cb9e617",
   "metadata": {
    "tags": []
   },
   "outputs": [],
   "source": [
    "engine.execute(\"USE users\")\n",
    "conn = engine.connect()\n",
    "meta = sqlalchemy.MetaData()\n",
    "meta.reflect(engine, schema=\"users\")"
   ]
  },
  {
   "cell_type": "code",
   "execution_count": null,
   "id": "058d1edd-24bc-42c8-ae87-14a31d94bbdb",
   "metadata": {},
   "outputs": [
    {
     "data": {
      "text/plain": [
       "dict_keys(['users.users'])"
      ]
     },
     "execution_count": 38,
     "metadata": {},
     "output_type": "execute_result"
    }
   ],
   "source": [
    "meta.tables.keys()"
   ]
  },
  {
   "cell_type": "code",
   "execution_count": null,
   "id": "38147409-1173-4825-a77f-dfa831228021",
   "metadata": {},
   "outputs": [],
   "source": [
    "users_table = meta.tables[\"users.users\"]"
   ]
  },
  {
   "cell_type": "code",
   "execution_count": null,
   "id": "e59322e5-deb8-44c3-a358-bc8adfdc8e44",
   "metadata": {},
   "outputs": [
    {
     "data": {
      "text/plain": [
       "1"
      ]
     },
     "execution_count": 40,
     "metadata": {},
     "output_type": "execute_result"
    }
   ],
   "source": [
    "len(users_diff)"
   ]
  },
  {
   "cell_type": "code",
   "execution_count": null,
   "id": "7a946182-7fe0-4ea7-afbe-b35ce6d45dc1",
   "metadata": {},
   "outputs": [
    {
     "data": {
      "text/html": [
       "<div>\n",
       "<style scoped>\n",
       "    .dataframe tbody tr th:only-of-type {\n",
       "        vertical-align: middle;\n",
       "    }\n",
       "\n",
       "    .dataframe tbody tr th {\n",
       "        vertical-align: top;\n",
       "    }\n",
       "\n",
       "    .dataframe thead th {\n",
       "        text-align: right;\n",
       "    }\n",
       "</style>\n",
       "<table border=\"1\" class=\"dataframe\">\n",
       "  <thead>\n",
       "    <tr style=\"text-align: right;\">\n",
       "      <th></th>\n",
       "      <th>id</th>\n",
       "      <th>created</th>\n",
       "      <th>tckn</th>\n",
       "      <th>username</th>\n",
       "      <th>clarification_text</th>\n",
       "      <th>user_agreement</th>\n",
       "      <th>consent_text</th>\n",
       "    </tr>\n",
       "  </thead>\n",
       "  <tbody>\n",
       "    <tr>\n",
       "      <th>1000</th>\n",
       "      <td>1001</td>\n",
       "      <td>2022-05-28</td>\n",
       "      <td>6381771585</td>\n",
       "      <td>7877236549</td>\n",
       "      <td>1</td>\n",
       "      <td>0</td>\n",
       "      <td>1</td>\n",
       "    </tr>\n",
       "  </tbody>\n",
       "</table>\n",
       "</div>"
      ],
      "text/plain": [
       "        id     created        tckn    username  clarification_text  \\\n",
       "1000  1001  2022-05-28  6381771585  7877236549                   1   \n",
       "\n",
       "      user_agreement  consent_text  \n",
       "1000               0             1  "
      ]
     },
     "execution_count": 41,
     "metadata": {},
     "output_type": "execute_result"
    }
   ],
   "source": [
    "users_diff.head()"
   ]
  },
  {
   "cell_type": "code",
   "execution_count": null,
   "id": "33cf0ce9-7f49-4d6f-a92e-64336a5cbac2",
   "metadata": {},
   "outputs": [
    {
     "data": {
      "text/html": [
       "<div>\n",
       "<style scoped>\n",
       "    .dataframe tbody tr th:only-of-type {\n",
       "        vertical-align: middle;\n",
       "    }\n",
       "\n",
       "    .dataframe tbody tr th {\n",
       "        vertical-align: top;\n",
       "    }\n",
       "\n",
       "    .dataframe thead th {\n",
       "        text-align: right;\n",
       "    }\n",
       "</style>\n",
       "<table border=\"1\" class=\"dataframe\">\n",
       "  <thead>\n",
       "    <tr style=\"text-align: right;\">\n",
       "      <th></th>\n",
       "      <th>id</th>\n",
       "      <th>created</th>\n",
       "      <th>tckn</th>\n",
       "      <th>username</th>\n",
       "      <th>clarification_text</th>\n",
       "      <th>user_agreement</th>\n",
       "      <th>consent_text</th>\n",
       "    </tr>\n",
       "  </thead>\n",
       "  <tbody>\n",
       "    <tr>\n",
       "      <th>995</th>\n",
       "      <td>996</td>\n",
       "      <td>2022-07-30</td>\n",
       "      <td>8517648897</td>\n",
       "      <td>9505171172</td>\n",
       "      <td>0</td>\n",
       "      <td>0</td>\n",
       "      <td>1</td>\n",
       "    </tr>\n",
       "    <tr>\n",
       "      <th>996</th>\n",
       "      <td>997</td>\n",
       "      <td>2022-06-01</td>\n",
       "      <td>1350349720</td>\n",
       "      <td>2926523977</td>\n",
       "      <td>0</td>\n",
       "      <td>0</td>\n",
       "      <td>1</td>\n",
       "    </tr>\n",
       "    <tr>\n",
       "      <th>997</th>\n",
       "      <td>998</td>\n",
       "      <td>2022-06-21</td>\n",
       "      <td>8251686687</td>\n",
       "      <td>3958233692</td>\n",
       "      <td>0</td>\n",
       "      <td>0</td>\n",
       "      <td>0</td>\n",
       "    </tr>\n",
       "    <tr>\n",
       "      <th>998</th>\n",
       "      <td>999</td>\n",
       "      <td>2022-06-14</td>\n",
       "      <td>0148120490</td>\n",
       "      <td>5294376554</td>\n",
       "      <td>1</td>\n",
       "      <td>0</td>\n",
       "      <td>1</td>\n",
       "    </tr>\n",
       "    <tr>\n",
       "      <th>999</th>\n",
       "      <td>1000</td>\n",
       "      <td>2022-05-28</td>\n",
       "      <td>6381771585</td>\n",
       "      <td>7877236549</td>\n",
       "      <td>1</td>\n",
       "      <td>0</td>\n",
       "      <td>0</td>\n",
       "    </tr>\n",
       "  </tbody>\n",
       "</table>\n",
       "</div>"
      ],
      "text/plain": [
       "       id     created        tckn    username  clarification_text  \\\n",
       "995   996  2022-07-30  8517648897  9505171172                   0   \n",
       "996   997  2022-06-01  1350349720  2926523977                   0   \n",
       "997   998  2022-06-21  8251686687  3958233692                   0   \n",
       "998   999  2022-06-14  0148120490  5294376554                   1   \n",
       "999  1000  2022-05-28  6381771585  7877236549                   1   \n",
       "\n",
       "     user_agreement  consent_text  \n",
       "995               0             1  \n",
       "996               0             1  \n",
       "997               0             0  \n",
       "998               0             1  \n",
       "999               0             0  "
      ]
     },
     "execution_count": 42,
     "metadata": {},
     "output_type": "execute_result"
    }
   ],
   "source": [
    "db_users.tail()"
   ]
  },
  {
   "cell_type": "code",
   "execution_count": null,
   "id": "4252066d-2979-421a-9f9d-e07dc8b17ccf",
   "metadata": {},
   "outputs": [],
   "source": [
    "for i in range(len(users_diff)):\n",
    "    try:\n",
    "        if users_diff.iloc[i,0] in db_users[\"id\"].values: ##or check tckn column\n",
    "            u = update(users_table)\n",
    "            u = u.values(id=users_diff.iloc[i,0], created=users_diff.iloc[i,1], tckn=users_diff.iloc[i,2], username=users_diff.iloc[i,3], clarification_text=users_diff.iloc[i,4], user_agreement=users_diff.iloc[i,5], consent_text=users_diff.iloc[i,6])\n",
    "            u = u.where(users_table.c.id == users_diff.iloc[i,0])\n",
    "            engine.execute(u)\n",
    "        else:\n",
    "            ins = insert(users_table)\n",
    "            ins = ins.values(id=users_diff.iloc[i,0], created=users_diff.iloc[i,1], tckn=users_diff.iloc[i,2], username=users_diff.iloc[i,3], clarification_text=users_diff.iloc[i,4], user_agreement=users_diff.iloc[i,5], consent_text=users_diff.iloc[i,6])\n",
    "            engine.execute(ins)\n",
    "    except exc.SQLAlchemyError as e:\n",
    "        query = insert(logs_table)\n",
    "        query = query.values(err_code=e.__dict__[\"code\"], err_statement=e.__dict__[\"statement\"], err_msg=e.__dict__[\"orig\"], err_occur_dt=datetime.now().strftime(\"%d/%m/%Y %H:%M:%S\"))\n",
    "        engine.execute(query)"
   ]
  },
  {
   "cell_type": "markdown",
   "id": "891da456-c3f9-47a4-b903-2ee587709196",
   "metadata": {},
   "source": [
    "# Add or update new users fields to users_fields table db"
   ]
  },
  {
   "cell_type": "code",
   "execution_count": 46,
   "id": "d8e312db-4cab-41d9-99b9-9d6c8644e82c",
   "metadata": {},
   "outputs": [
    {
     "data": {
      "text/html": [
       "<div>\n",
       "<style scoped>\n",
       "    .dataframe tbody tr th:only-of-type {\n",
       "        vertical-align: middle;\n",
       "    }\n",
       "\n",
       "    .dataframe tbody tr th {\n",
       "        vertical-align: top;\n",
       "    }\n",
       "\n",
       "    .dataframe thead th {\n",
       "        text-align: right;\n",
       "    }\n",
       "</style>\n",
       "<table border=\"1\" class=\"dataframe\">\n",
       "  <thead>\n",
       "    <tr style=\"text-align: right;\">\n",
       "      <th></th>\n",
       "      <th>id</th>\n",
       "      <th>farm_name</th>\n",
       "      <th>lat</th>\n",
       "      <th>lng</th>\n",
       "      <th>area</th>\n",
       "      <th>plant</th>\n",
       "      <th>season_start_date</th>\n",
       "      <th>season_end_date</th>\n",
       "      <th>user_id</th>\n",
       "    </tr>\n",
       "  </thead>\n",
       "  <tbody>\n",
       "    <tr>\n",
       "      <th>996</th>\n",
       "      <td></td>\n",
       "      <td></td>\n",
       "      <td></td>\n",
       "      <td></td>\n",
       "      <td></td>\n",
       "      <td></td>\n",
       "      <td></td>\n",
       "      <td></td>\n",
       "      <td>997</td>\n",
       "    </tr>\n",
       "    <tr>\n",
       "      <th>997</th>\n",
       "      <td>1</td>\n",
       "      <td>Hudson</td>\n",
       "      <td>23.005947212</td>\n",
       "      <td>49.463256116</td>\n",
       "      <td>58.316422576</td>\n",
       "      <td>Nipple Beach Phacelia</td>\n",
       "      <td>2022-06-07 17:28:40</td>\n",
       "      <td>2022-04-13 13:08:47</td>\n",
       "      <td>998</td>\n",
       "    </tr>\n",
       "    <tr>\n",
       "      <th>998</th>\n",
       "      <td>1</td>\n",
       "      <td>Waxwing</td>\n",
       "      <td>36.454989371</td>\n",
       "      <td>90.576276314</td>\n",
       "      <td>43.760100669</td>\n",
       "      <td>Sensitive Jointvetch</td>\n",
       "      <td>2022-07-28 01:39:52</td>\n",
       "      <td>2022-04-29 01:37:50</td>\n",
       "      <td>999</td>\n",
       "    </tr>\n",
       "    <tr>\n",
       "      <th>999</th>\n",
       "      <td>1</td>\n",
       "      <td>Kipling</td>\n",
       "      <td>21.24518213</td>\n",
       "      <td>11.894639177</td>\n",
       "      <td>44.215076979</td>\n",
       "      <td>Arrowleaf Balsamroot</td>\n",
       "      <td>2022-05-05 20:00:53</td>\n",
       "      <td>2022-05-27 10:30:38</td>\n",
       "      <td>1000</td>\n",
       "    </tr>\n",
       "    <tr>\n",
       "      <th>1000</th>\n",
       "      <td>1</td>\n",
       "      <td>test</td>\n",
       "      <td>21.24518213</td>\n",
       "      <td>11.894639177</td>\n",
       "      <td>44.215076979</td>\n",
       "      <td>Arrowleaf Balsamroot</td>\n",
       "      <td>2022-05-05 20:00:53</td>\n",
       "      <td>2022-05-27 10:30:38</td>\n",
       "      <td>1001</td>\n",
       "    </tr>\n",
       "  </tbody>\n",
       "</table>\n",
       "</div>"
      ],
      "text/plain": [
       "     id farm_name           lat           lng          area  \\\n",
       "996                                                           \n",
       "997   1    Hudson  23.005947212  49.463256116  58.316422576   \n",
       "998   1   Waxwing  36.454989371  90.576276314  43.760100669   \n",
       "999   1   Kipling   21.24518213  11.894639177  44.215076979   \n",
       "1000  1      test   21.24518213  11.894639177  44.215076979   \n",
       "\n",
       "                      plant    season_start_date      season_end_date  user_id  \n",
       "996                                                                        997  \n",
       "997   Nipple Beach Phacelia  2022-06-07 17:28:40  2022-04-13 13:08:47      998  \n",
       "998    Sensitive Jointvetch  2022-07-28 01:39:52  2022-04-29 01:37:50      999  \n",
       "999    Arrowleaf Balsamroot  2022-05-05 20:00:53  2022-05-27 10:30:38     1000  \n",
       "1000   Arrowleaf Balsamroot  2022-05-05 20:00:53  2022-05-27 10:30:38     1001  "
      ]
     },
     "execution_count": 46,
     "metadata": {},
     "output_type": "execute_result"
    }
   ],
   "source": [
    "response_fields.tail()"
   ]
  },
  {
   "cell_type": "code",
   "execution_count": 47,
   "id": "ddfe5f01-05cd-42d6-84d4-fd133766fd91",
   "metadata": {},
   "outputs": [
    {
     "data": {
      "text/html": [
       "<div>\n",
       "<style scoped>\n",
       "    .dataframe tbody tr th:only-of-type {\n",
       "        vertical-align: middle;\n",
       "    }\n",
       "\n",
       "    .dataframe tbody tr th {\n",
       "        vertical-align: top;\n",
       "    }\n",
       "\n",
       "    .dataframe thead th {\n",
       "        text-align: right;\n",
       "    }\n",
       "</style>\n",
       "<table border=\"1\" class=\"dataframe\">\n",
       "  <thead>\n",
       "    <tr style=\"text-align: right;\">\n",
       "      <th></th>\n",
       "      <th>id</th>\n",
       "      <th>farm_name</th>\n",
       "      <th>lat</th>\n",
       "      <th>lng</th>\n",
       "      <th>area</th>\n",
       "      <th>plant</th>\n",
       "      <th>season_start_date</th>\n",
       "      <th>season_end_date</th>\n",
       "      <th>user_id</th>\n",
       "    </tr>\n",
       "  </thead>\n",
       "  <tbody>\n",
       "    <tr>\n",
       "      <th>995</th>\n",
       "      <td></td>\n",
       "      <td></td>\n",
       "      <td></td>\n",
       "      <td></td>\n",
       "      <td></td>\n",
       "      <td></td>\n",
       "      <td></td>\n",
       "      <td></td>\n",
       "      <td>996</td>\n",
       "    </tr>\n",
       "    <tr>\n",
       "      <th>996</th>\n",
       "      <td></td>\n",
       "      <td></td>\n",
       "      <td></td>\n",
       "      <td></td>\n",
       "      <td></td>\n",
       "      <td></td>\n",
       "      <td></td>\n",
       "      <td></td>\n",
       "      <td>997</td>\n",
       "    </tr>\n",
       "    <tr>\n",
       "      <th>997</th>\n",
       "      <td>1</td>\n",
       "      <td>Hudson</td>\n",
       "      <td>23.005947212</td>\n",
       "      <td>49.463256116</td>\n",
       "      <td>58.316422576</td>\n",
       "      <td>Nipple Beach Phacelia</td>\n",
       "      <td>2022-06-07 17:28:40</td>\n",
       "      <td>2022-04-13 13:08:47</td>\n",
       "      <td>998</td>\n",
       "    </tr>\n",
       "    <tr>\n",
       "      <th>998</th>\n",
       "      <td>1</td>\n",
       "      <td>Waxwing</td>\n",
       "      <td>36.454989371</td>\n",
       "      <td>90.576276314</td>\n",
       "      <td>43.760100669</td>\n",
       "      <td>Sensitive Jointvetch</td>\n",
       "      <td>2022-07-28 01:39:52</td>\n",
       "      <td>2022-04-29 01:37:50</td>\n",
       "      <td>999</td>\n",
       "    </tr>\n",
       "    <tr>\n",
       "      <th>999</th>\n",
       "      <td>1</td>\n",
       "      <td>Kipling</td>\n",
       "      <td>21.24518213</td>\n",
       "      <td>11.894639177</td>\n",
       "      <td>44.215076979</td>\n",
       "      <td>Arrowleaf Balsamroot</td>\n",
       "      <td>2022-05-05 20:00:53</td>\n",
       "      <td>2022-05-27 10:30:38</td>\n",
       "      <td>1000</td>\n",
       "    </tr>\n",
       "  </tbody>\n",
       "</table>\n",
       "</div>"
      ],
      "text/plain": [
       "    id farm_name           lat           lng          area  \\\n",
       "995                                                          \n",
       "996                                                          \n",
       "997  1    Hudson  23.005947212  49.463256116  58.316422576   \n",
       "998  1   Waxwing  36.454989371  90.576276314  43.760100669   \n",
       "999  1   Kipling   21.24518213  11.894639177  44.215076979   \n",
       "\n",
       "                     plant    season_start_date      season_end_date  user_id  \n",
       "995                                                                       996  \n",
       "996                                                                       997  \n",
       "997  Nipple Beach Phacelia  2022-06-07 17:28:40  2022-04-13 13:08:47      998  \n",
       "998   Sensitive Jointvetch  2022-07-28 01:39:52  2022-04-29 01:37:50      999  \n",
       "999   Arrowleaf Balsamroot  2022-05-05 20:00:53  2022-05-27 10:30:38     1000  "
      ]
     },
     "execution_count": 47,
     "metadata": {},
     "output_type": "execute_result"
    }
   ],
   "source": [
    "db_fields.tail()"
   ]
  },
  {
   "cell_type": "markdown",
   "id": "2cc7bf79-ec57-4615-9e30-37be5c170a0f",
   "metadata": {},
   "source": [
    "## Because of type mismatches, we preprocess the data before compare. (users_fields)"
   ]
  },
  {
   "cell_type": "code",
   "execution_count": 48,
   "id": "4493336a-be5d-4907-a87a-5cda06af0453",
   "metadata": {},
   "outputs": [],
   "source": [
    "for i in range(len(db_fields[\"lat\"])):\n",
    "    if db_fields.loc[i, \"lat\"] != \"\":\n",
    "        db_fields.loc[i, \"lat\"] = float(db_fields.loc[i, \"lat\"])\n",
    "    else:\n",
    "        continue\n"
   ]
  },
  {
   "cell_type": "code",
   "execution_count": 49,
   "id": "749ad86e-4f54-4a6f-ac8a-8adb2ff0edde",
   "metadata": {},
   "outputs": [],
   "source": [
    "for i in range(len(db_fields[\"lng\"])):\n",
    "    if db_fields.loc[i, \"lng\"] != \"\":\n",
    "        db_fields.loc[i, \"lng\"] = float(db_fields.loc[i, \"lng\"])\n",
    "    else:\n",
    "        continue"
   ]
  },
  {
   "cell_type": "code",
   "execution_count": 50,
   "id": "212d07c0-8e2e-4c6a-8a53-d45730d7454b",
   "metadata": {},
   "outputs": [],
   "source": [
    "for i in range(len(db_fields[\"area\"])):\n",
    "    if db_fields.loc[i, \"area\"] != \"\":\n",
    "        db_fields.loc[i, \"area\"] = float(db_fields.loc[i, \"area\"])\n",
    "    else:\n",
    "        continue"
   ]
  },
  {
   "cell_type": "code",
   "execution_count": 51,
   "id": "49fe96e1-dd7f-4c95-9c39-83877ff65d26",
   "metadata": {},
   "outputs": [],
   "source": [
    "for i in range(len(db_fields[\"id\"])):\n",
    "    if db_fields.loc[i, \"id\"] != \"\":\n",
    "        db_fields.loc[i, \"id\"] = int(db_fields.loc[i, \"id\"])\n",
    "    else:\n",
    "        continue"
   ]
  },
  {
   "cell_type": "code",
   "execution_count": 53,
   "id": "e1b16ec2-4d5e-48df-b157-777f1615eb90",
   "metadata": {},
   "outputs": [
    {
     "data": {
      "text/html": [
       "<div>\n",
       "<style scoped>\n",
       "    .dataframe tbody tr th:only-of-type {\n",
       "        vertical-align: middle;\n",
       "    }\n",
       "\n",
       "    .dataframe tbody tr th {\n",
       "        vertical-align: top;\n",
       "    }\n",
       "\n",
       "    .dataframe thead th {\n",
       "        text-align: right;\n",
       "    }\n",
       "</style>\n",
       "<table border=\"1\" class=\"dataframe\">\n",
       "  <thead>\n",
       "    <tr style=\"text-align: right;\">\n",
       "      <th></th>\n",
       "      <th>id</th>\n",
       "      <th>farm_name</th>\n",
       "      <th>lat</th>\n",
       "      <th>lng</th>\n",
       "      <th>area</th>\n",
       "      <th>plant</th>\n",
       "      <th>season_start_date</th>\n",
       "      <th>season_end_date</th>\n",
       "      <th>user_id</th>\n",
       "    </tr>\n",
       "  </thead>\n",
       "  <tbody>\n",
       "    <tr>\n",
       "      <th>0</th>\n",
       "      <td></td>\n",
       "      <td></td>\n",
       "      <td></td>\n",
       "      <td></td>\n",
       "      <td></td>\n",
       "      <td></td>\n",
       "      <td></td>\n",
       "      <td></td>\n",
       "      <td>1</td>\n",
       "    </tr>\n",
       "    <tr>\n",
       "      <th>1</th>\n",
       "      <td>1</td>\n",
       "      <td>Paget</td>\n",
       "      <td>47.93520072</td>\n",
       "      <td>13.710337028</td>\n",
       "      <td>95.535737494</td>\n",
       "      <td>Waterhyssop</td>\n",
       "      <td>2022-04-04 09:15:37</td>\n",
       "      <td>2022-05-15 20:20:36</td>\n",
       "      <td>2</td>\n",
       "    </tr>\n",
       "    <tr>\n",
       "      <th>2</th>\n",
       "      <td>1</td>\n",
       "      <td>Parkside</td>\n",
       "      <td>45.287717074</td>\n",
       "      <td>58.064253139</td>\n",
       "      <td>24.12880332</td>\n",
       "      <td>Starhorn</td>\n",
       "      <td>2022-05-08 17:24:33</td>\n",
       "      <td>2022-07-29 05:36:34</td>\n",
       "      <td>3</td>\n",
       "    </tr>\n",
       "    <tr>\n",
       "      <th>3</th>\n",
       "      <td></td>\n",
       "      <td></td>\n",
       "      <td></td>\n",
       "      <td></td>\n",
       "      <td></td>\n",
       "      <td></td>\n",
       "      <td></td>\n",
       "      <td></td>\n",
       "      <td>4</td>\n",
       "    </tr>\n",
       "    <tr>\n",
       "      <th>4</th>\n",
       "      <td></td>\n",
       "      <td></td>\n",
       "      <td></td>\n",
       "      <td></td>\n",
       "      <td></td>\n",
       "      <td></td>\n",
       "      <td></td>\n",
       "      <td></td>\n",
       "      <td>5</td>\n",
       "    </tr>\n",
       "  </tbody>\n",
       "</table>\n",
       "</div>"
      ],
      "text/plain": [
       "  id farm_name           lat           lng          area        plant  \\\n",
       "0                                                                       \n",
       "1  1     Paget   47.93520072  13.710337028  95.535737494  Waterhyssop   \n",
       "2  1  Parkside  45.287717074  58.064253139   24.12880332     Starhorn   \n",
       "3                                                                       \n",
       "4                                                                       \n",
       "\n",
       "     season_start_date      season_end_date  user_id  \n",
       "0                                                  1  \n",
       "1  2022-04-04 09:15:37  2022-05-15 20:20:36        2  \n",
       "2  2022-05-08 17:24:33  2022-07-29 05:36:34        3  \n",
       "3                                                  4  \n",
       "4                                                  5  "
      ]
     },
     "execution_count": 53,
     "metadata": {},
     "output_type": "execute_result"
    }
   ],
   "source": [
    "response_fields.head()"
   ]
  },
  {
   "cell_type": "code",
   "execution_count": 54,
   "id": "a514f3f9-e431-453f-af14-9499acc18fb0",
   "metadata": {},
   "outputs": [
    {
     "data": {
      "text/html": [
       "<div>\n",
       "<style scoped>\n",
       "    .dataframe tbody tr th:only-of-type {\n",
       "        vertical-align: middle;\n",
       "    }\n",
       "\n",
       "    .dataframe tbody tr th {\n",
       "        vertical-align: top;\n",
       "    }\n",
       "\n",
       "    .dataframe thead th {\n",
       "        text-align: right;\n",
       "    }\n",
       "</style>\n",
       "<table border=\"1\" class=\"dataframe\">\n",
       "  <thead>\n",
       "    <tr style=\"text-align: right;\">\n",
       "      <th></th>\n",
       "      <th>id</th>\n",
       "      <th>farm_name</th>\n",
       "      <th>lat</th>\n",
       "      <th>lng</th>\n",
       "      <th>area</th>\n",
       "      <th>plant</th>\n",
       "      <th>season_start_date</th>\n",
       "      <th>season_end_date</th>\n",
       "      <th>user_id</th>\n",
       "    </tr>\n",
       "  </thead>\n",
       "  <tbody>\n",
       "    <tr>\n",
       "      <th>0</th>\n",
       "      <td></td>\n",
       "      <td></td>\n",
       "      <td></td>\n",
       "      <td></td>\n",
       "      <td></td>\n",
       "      <td></td>\n",
       "      <td></td>\n",
       "      <td></td>\n",
       "      <td>1</td>\n",
       "    </tr>\n",
       "    <tr>\n",
       "      <th>1</th>\n",
       "      <td>1</td>\n",
       "      <td>Paget</td>\n",
       "      <td>47.93520072</td>\n",
       "      <td>13.710337028</td>\n",
       "      <td>95.535737494</td>\n",
       "      <td>Waterhyssop</td>\n",
       "      <td>2022-04-04 09:15:37</td>\n",
       "      <td>2022-05-15 20:20:36</td>\n",
       "      <td>2</td>\n",
       "    </tr>\n",
       "    <tr>\n",
       "      <th>2</th>\n",
       "      <td>1</td>\n",
       "      <td>Parkside</td>\n",
       "      <td>45.287717074</td>\n",
       "      <td>58.064253139</td>\n",
       "      <td>24.12880332</td>\n",
       "      <td>Starhorn</td>\n",
       "      <td>2022-05-08 17:24:33</td>\n",
       "      <td>2022-07-29 05:36:34</td>\n",
       "      <td>3</td>\n",
       "    </tr>\n",
       "    <tr>\n",
       "      <th>3</th>\n",
       "      <td></td>\n",
       "      <td></td>\n",
       "      <td></td>\n",
       "      <td></td>\n",
       "      <td></td>\n",
       "      <td></td>\n",
       "      <td></td>\n",
       "      <td></td>\n",
       "      <td>4</td>\n",
       "    </tr>\n",
       "    <tr>\n",
       "      <th>4</th>\n",
       "      <td></td>\n",
       "      <td></td>\n",
       "      <td></td>\n",
       "      <td></td>\n",
       "      <td></td>\n",
       "      <td></td>\n",
       "      <td></td>\n",
       "      <td></td>\n",
       "      <td>5</td>\n",
       "    </tr>\n",
       "  </tbody>\n",
       "</table>\n",
       "</div>"
      ],
      "text/plain": [
       "  id farm_name           lat           lng          area        plant  \\\n",
       "0                                                                       \n",
       "1  1     Paget   47.93520072  13.710337028  95.535737494  Waterhyssop   \n",
       "2  1  Parkside  45.287717074  58.064253139   24.12880332     Starhorn   \n",
       "3                                                                       \n",
       "4                                                                       \n",
       "\n",
       "     season_start_date      season_end_date  user_id  \n",
       "0                                                  1  \n",
       "1  2022-04-04 09:15:37  2022-05-15 20:20:36        2  \n",
       "2  2022-05-08 17:24:33  2022-07-29 05:36:34        3  \n",
       "3                                                  4  \n",
       "4                                                  5  "
      ]
     },
     "execution_count": 54,
     "metadata": {},
     "output_type": "execute_result"
    }
   ],
   "source": [
    "db_fields.head()"
   ]
  },
  {
   "cell_type": "markdown",
   "id": "d71fb5db-fe00-4bcd-825e-dd8f3d8a8d7d",
   "metadata": {},
   "source": [
    "### Change response data for testing"
   ]
  },
  {
   "cell_type": "code",
   "execution_count": 55,
   "id": "b229704c-4ed5-420d-a29c-a66266c2ab5d",
   "metadata": {},
   "outputs": [],
   "source": [
    "response_fields.loc[1, \"farm_name\"] = \"test\""
   ]
  },
  {
   "cell_type": "markdown",
   "id": "8257bcf5-d14f-420f-bd1e-cb28e235a3e0",
   "metadata": {},
   "source": [
    "### Comparing two dataframes"
   ]
  },
  {
   "cell_type": "code",
   "execution_count": 52,
   "id": "28302758-8854-42cb-9760-b64da180f371",
   "metadata": {},
   "outputs": [],
   "source": [
    "fields_diff = response_fields[~response_fields.apply(tuple,1).isin(db_fields.apply(tuple,1))]"
   ]
  },
  {
   "cell_type": "code",
   "execution_count": 53,
   "id": "3a6e00db-2c48-4701-bf78-359e30a3ecbf",
   "metadata": {},
   "outputs": [
    {
     "data": {
      "text/html": [
       "<div>\n",
       "<style scoped>\n",
       "    .dataframe tbody tr th:only-of-type {\n",
       "        vertical-align: middle;\n",
       "    }\n",
       "\n",
       "    .dataframe tbody tr th {\n",
       "        vertical-align: top;\n",
       "    }\n",
       "\n",
       "    .dataframe thead th {\n",
       "        text-align: right;\n",
       "    }\n",
       "</style>\n",
       "<table border=\"1\" class=\"dataframe\">\n",
       "  <thead>\n",
       "    <tr style=\"text-align: right;\">\n",
       "      <th></th>\n",
       "      <th>id</th>\n",
       "      <th>farm_name</th>\n",
       "      <th>lat</th>\n",
       "      <th>lng</th>\n",
       "      <th>area</th>\n",
       "      <th>plant</th>\n",
       "      <th>season_start_date</th>\n",
       "      <th>season_end_date</th>\n",
       "      <th>user_id</th>\n",
       "    </tr>\n",
       "  </thead>\n",
       "  <tbody>\n",
       "    <tr>\n",
       "      <th>1000</th>\n",
       "      <td>1</td>\n",
       "      <td>test</td>\n",
       "      <td>21.24518213</td>\n",
       "      <td>11.894639177</td>\n",
       "      <td>44.215076979</td>\n",
       "      <td>Arrowleaf Balsamroot</td>\n",
       "      <td>2022-05-05 20:00:53</td>\n",
       "      <td>2022-05-27 10:30:38</td>\n",
       "      <td>1001</td>\n",
       "    </tr>\n",
       "  </tbody>\n",
       "</table>\n",
       "</div>"
      ],
      "text/plain": [
       "     id farm_name          lat           lng          area  \\\n",
       "1000  1      test  21.24518213  11.894639177  44.215076979   \n",
       "\n",
       "                     plant    season_start_date      season_end_date  user_id  \n",
       "1000  Arrowleaf Balsamroot  2022-05-05 20:00:53  2022-05-27 10:30:38     1001  "
      ]
     },
     "execution_count": 53,
     "metadata": {},
     "output_type": "execute_result"
    }
   ],
   "source": [
    "fields_diff.head()"
   ]
  },
  {
   "cell_type": "markdown",
   "id": "8453c89b-cd85-404e-b38a-fb619c781978",
   "metadata": {
    "tags": []
   },
   "source": [
    "## Update the 'field' table in database."
   ]
  },
  {
   "cell_type": "code",
   "execution_count": 55,
   "id": "583a05e1-de7e-4038-a6f2-6ca6b5e23179",
   "metadata": {
    "tags": []
   },
   "outputs": [],
   "source": [
    "engine.execute(\"USE users_fields\")\n",
    "conn = engine.connect()\n",
    "meta = sqlalchemy.MetaData()\n",
    "meta.reflect(engine, schema=\"users_fields\")"
   ]
  },
  {
   "cell_type": "code",
   "execution_count": 56,
   "id": "55f4b858-8f0c-4c2e-96d7-f0007b908f1a",
   "metadata": {},
   "outputs": [
    {
     "data": {
      "text/plain": [
       "dict_keys(['users_fields.users_fields'])"
      ]
     },
     "execution_count": 56,
     "metadata": {},
     "output_type": "execute_result"
    }
   ],
   "source": [
    "meta.tables.keys()"
   ]
  },
  {
   "cell_type": "code",
   "execution_count": 57,
   "id": "0a35d38c-f87e-42b8-bdcb-129c25825ee6",
   "metadata": {},
   "outputs": [],
   "source": [
    "fields_table = meta.tables[\"users_fields.users_fields\"]\n",
    "for i in range(len(fields_diff)):\n",
    "        try:\n",
    "            if fields_diff.iloc[i,8] in db_fields[\"user_id\"].values:     ##if fields_diff.iloc[0,8] in db_fields[\"user_id\"].values:  \n",
    "                u = update(fields_table)\n",
    "                u = u.values(id=fields_diff.iloc[i,0], farm_name=fields_diff.iloc[i,1], lat=fields_diff.iloc[i,2], lng=fields_diff.iloc[i,3], area=fields_diff.iloc[i,4], plant=fields_diff.iloc[i,5], season_start_date=fields_diff.iloc[i,6], season_end_date=fields_diff.iloc[i,7], user_id=fields_diff.iloc[i,8])\n",
    "                u = u.where(fields_table.c.user_id == fields_diff.iloc[i,8])\n",
    "                engine.execute(u)\n",
    "            else:\n",
    "                ins = insert(fields_table)\n",
    "                ins = ins.values(id=fields_diff.iloc[i,0], farm_name=fields_diff.iloc[i,1], lat=fields_diff.iloc[i,2], lng=fields_diff.iloc[i,3], area=fields_diff.iloc[i,4], plant=fields_diff.iloc[i,5], season_start_date=fields_diff.iloc[i,6], season_end_date=fields_diff.iloc[i,7], user_id=fields_diff.iloc[i,8])\n",
    "                engine.execute(ins)\n",
    "        except exc.SQLAlchemyError as e:\n",
    "            query = insert(logs_table)\n",
    "            query = query.values(err_code=e.__dict__[\"code\"], err_statement=e.__dict__[\"statement\"], err_msg=e.__dict__[\"orig\"], err_occur_dt=datetime.now().strftime(\"%d/%m/%Y %H:%M:%S\"))\n",
    "            engine.execute(query)"
   ]
  },
  {
   "cell_type": "markdown",
   "id": "3e22b056-f6a5-4090-aa07-11bb02bb1b1d",
   "metadata": {
    "tags": []
   },
   "source": [
    "# Add or update new users credits to credits table db"
   ]
  },
  {
   "cell_type": "code",
   "execution_count": 58,
   "id": "235d3e27-fde9-43f2-b921-76dcd13d1fc6",
   "metadata": {},
   "outputs": [
    {
     "data": {
      "text/html": [
       "<div>\n",
       "<style scoped>\n",
       "    .dataframe tbody tr th:only-of-type {\n",
       "        vertical-align: middle;\n",
       "    }\n",
       "\n",
       "    .dataframe tbody tr th {\n",
       "        vertical-align: top;\n",
       "    }\n",
       "\n",
       "    .dataframe thead th {\n",
       "        text-align: right;\n",
       "    }\n",
       "</style>\n",
       "<table border=\"1\" class=\"dataframe\">\n",
       "  <thead>\n",
       "    <tr style=\"text-align: right;\">\n",
       "      <th></th>\n",
       "      <th>id</th>\n",
       "      <th>created</th>\n",
       "      <th>created_amount</th>\n",
       "      <th>demand_gsm</th>\n",
       "      <th>city</th>\n",
       "      <th>town</th>\n",
       "      <th>username</th>\n",
       "      <th>tckn</th>\n",
       "    </tr>\n",
       "  </thead>\n",
       "  <tbody>\n",
       "    <tr>\n",
       "      <th>996</th>\n",
       "      <td>997</td>\n",
       "      <td>2022-08-06</td>\n",
       "      <td>63442</td>\n",
       "      <td>4442317763</td>\n",
       "      <td>Sredno Konjare</td>\n",
       "      <td>9359 Pepper Wood Circle</td>\n",
       "      <td>8544500170</td>\n",
       "      <td>4484704420</td>\n",
       "    </tr>\n",
       "    <tr>\n",
       "      <th>997</th>\n",
       "      <td>998</td>\n",
       "      <td>2022-04-05</td>\n",
       "      <td>237525</td>\n",
       "      <td>8614334799</td>\n",
       "      <td>Bestovje</td>\n",
       "      <td>94223 Main Avenue</td>\n",
       "      <td>9977570318</td>\n",
       "      <td>2483996183</td>\n",
       "    </tr>\n",
       "    <tr>\n",
       "      <th>998</th>\n",
       "      <td>999</td>\n",
       "      <td>2022-04-11</td>\n",
       "      <td>162867</td>\n",
       "      <td>2798804299</td>\n",
       "      <td>Ozherel’ye</td>\n",
       "      <td>5 Rusk Pass</td>\n",
       "      <td>3512825209</td>\n",
       "      <td>8241399448</td>\n",
       "    </tr>\n",
       "    <tr>\n",
       "      <th>999</th>\n",
       "      <td>1000</td>\n",
       "      <td>2022-05-17</td>\n",
       "      <td>191970</td>\n",
       "      <td>8528855960</td>\n",
       "      <td>Babao</td>\n",
       "      <td>6031 Gale Alley</td>\n",
       "      <td>4174718589</td>\n",
       "      <td>7070702329</td>\n",
       "    </tr>\n",
       "    <tr>\n",
       "      <th>1000</th>\n",
       "      <td>1001</td>\n",
       "      <td>2022-05-17</td>\n",
       "      <td>191970</td>\n",
       "      <td>8528855960</td>\n",
       "      <td>test</td>\n",
       "      <td>6031 Gale Alley</td>\n",
       "      <td>4174718589</td>\n",
       "      <td>7070702329</td>\n",
       "    </tr>\n",
       "  </tbody>\n",
       "</table>\n",
       "</div>"
      ],
      "text/plain": [
       "        id     created  created_amount  demand_gsm            city  \\\n",
       "996    997  2022-08-06           63442  4442317763  Sredno Konjare   \n",
       "997    998  2022-04-05          237525  8614334799        Bestovje   \n",
       "998    999  2022-04-11          162867  2798804299      Ozherel’ye   \n",
       "999   1000  2022-05-17          191970  8528855960           Babao   \n",
       "1000  1001  2022-05-17          191970  8528855960            test   \n",
       "\n",
       "                         town    username        tckn  \n",
       "996   9359 Pepper Wood Circle  8544500170  4484704420  \n",
       "997         94223 Main Avenue  9977570318  2483996183  \n",
       "998               5 Rusk Pass  3512825209  8241399448  \n",
       "999           6031 Gale Alley  4174718589  7070702329  \n",
       "1000          6031 Gale Alley  4174718589  7070702329  "
      ]
     },
     "execution_count": 58,
     "metadata": {},
     "output_type": "execute_result"
    }
   ],
   "source": [
    "response_credits.tail()"
   ]
  },
  {
   "cell_type": "code",
   "execution_count": 59,
   "id": "e904ee89-b3e6-44cc-851a-469514950056",
   "metadata": {},
   "outputs": [
    {
     "data": {
      "text/html": [
       "<div>\n",
       "<style scoped>\n",
       "    .dataframe tbody tr th:only-of-type {\n",
       "        vertical-align: middle;\n",
       "    }\n",
       "\n",
       "    .dataframe tbody tr th {\n",
       "        vertical-align: top;\n",
       "    }\n",
       "\n",
       "    .dataframe thead th {\n",
       "        text-align: right;\n",
       "    }\n",
       "</style>\n",
       "<table border=\"1\" class=\"dataframe\">\n",
       "  <thead>\n",
       "    <tr style=\"text-align: right;\">\n",
       "      <th></th>\n",
       "      <th>id</th>\n",
       "      <th>created</th>\n",
       "      <th>created_amount</th>\n",
       "      <th>demand_gsm</th>\n",
       "      <th>city</th>\n",
       "      <th>town</th>\n",
       "      <th>username</th>\n",
       "      <th>tckn</th>\n",
       "    </tr>\n",
       "  </thead>\n",
       "  <tbody>\n",
       "    <tr>\n",
       "      <th>995</th>\n",
       "      <td>996</td>\n",
       "      <td>2022-05-03</td>\n",
       "      <td>165338</td>\n",
       "      <td>4725146768</td>\n",
       "      <td>Kista</td>\n",
       "      <td>26706 Namekagon Center</td>\n",
       "      <td>3838611046</td>\n",
       "      <td>5104480941</td>\n",
       "    </tr>\n",
       "    <tr>\n",
       "      <th>996</th>\n",
       "      <td>997</td>\n",
       "      <td>2022-08-06</td>\n",
       "      <td>63442</td>\n",
       "      <td>4442317763</td>\n",
       "      <td>Sredno Konjare</td>\n",
       "      <td>9359 Pepper Wood Circle</td>\n",
       "      <td>8544500170</td>\n",
       "      <td>4484704420</td>\n",
       "    </tr>\n",
       "    <tr>\n",
       "      <th>997</th>\n",
       "      <td>998</td>\n",
       "      <td>2022-04-05</td>\n",
       "      <td>237525</td>\n",
       "      <td>8614334799</td>\n",
       "      <td>Bestovje</td>\n",
       "      <td>94223 Main Avenue</td>\n",
       "      <td>9977570318</td>\n",
       "      <td>2483996183</td>\n",
       "    </tr>\n",
       "    <tr>\n",
       "      <th>998</th>\n",
       "      <td>999</td>\n",
       "      <td>2022-04-11</td>\n",
       "      <td>162867</td>\n",
       "      <td>2798804299</td>\n",
       "      <td>Ozherel’ye</td>\n",
       "      <td>5 Rusk Pass</td>\n",
       "      <td>3512825209</td>\n",
       "      <td>8241399448</td>\n",
       "    </tr>\n",
       "    <tr>\n",
       "      <th>999</th>\n",
       "      <td>1000</td>\n",
       "      <td>2022-05-17</td>\n",
       "      <td>191970</td>\n",
       "      <td>8528855960</td>\n",
       "      <td>Babao</td>\n",
       "      <td>6031 Gale Alley</td>\n",
       "      <td>4174718589</td>\n",
       "      <td>7070702329</td>\n",
       "    </tr>\n",
       "  </tbody>\n",
       "</table>\n",
       "</div>"
      ],
      "text/plain": [
       "       id     created  created_amount  demand_gsm            city  \\\n",
       "995   996  2022-05-03          165338  4725146768           Kista   \n",
       "996   997  2022-08-06           63442  4442317763  Sredno Konjare   \n",
       "997   998  2022-04-05          237525  8614334799        Bestovje   \n",
       "998   999  2022-04-11          162867  2798804299      Ozherel’ye   \n",
       "999  1000  2022-05-17          191970  8528855960           Babao   \n",
       "\n",
       "                        town    username        tckn  \n",
       "995   26706 Namekagon Center  3838611046  5104480941  \n",
       "996  9359 Pepper Wood Circle  8544500170  4484704420  \n",
       "997        94223 Main Avenue  9977570318  2483996183  \n",
       "998              5 Rusk Pass  3512825209  8241399448  \n",
       "999          6031 Gale Alley  4174718589  7070702329  "
      ]
     },
     "execution_count": 59,
     "metadata": {},
     "output_type": "execute_result"
    }
   ],
   "source": [
    "db_credits.tail()"
   ]
  },
  {
   "cell_type": "code",
   "execution_count": 84,
   "id": "f9248315-8857-4448-a8f2-eeb450f42ebf",
   "metadata": {
    "tags": []
   },
   "outputs": [],
   "source": [
    "response_credits.loc[4,\"city\"] = \"test\""
   ]
  },
  {
   "cell_type": "code",
   "execution_count": 85,
   "id": "d3981ed8-dd71-4bf2-96f1-e147034a4091",
   "metadata": {},
   "outputs": [
    {
     "data": {
      "text/html": [
       "<div>\n",
       "<style scoped>\n",
       "    .dataframe tbody tr th:only-of-type {\n",
       "        vertical-align: middle;\n",
       "    }\n",
       "\n",
       "    .dataframe tbody tr th {\n",
       "        vertical-align: top;\n",
       "    }\n",
       "\n",
       "    .dataframe thead th {\n",
       "        text-align: right;\n",
       "    }\n",
       "</style>\n",
       "<table border=\"1\" class=\"dataframe\">\n",
       "  <thead>\n",
       "    <tr style=\"text-align: right;\">\n",
       "      <th></th>\n",
       "      <th>id</th>\n",
       "      <th>created</th>\n",
       "      <th>created_amount</th>\n",
       "      <th>demand_gsm</th>\n",
       "      <th>city</th>\n",
       "      <th>town</th>\n",
       "      <th>username</th>\n",
       "      <th>tckn</th>\n",
       "    </tr>\n",
       "  </thead>\n",
       "  <tbody>\n",
       "    <tr>\n",
       "      <th>0</th>\n",
       "      <td>1</td>\n",
       "      <td>2022-08-03</td>\n",
       "      <td>14136</td>\n",
       "      <td>8988047843</td>\n",
       "      <td>Jiang’an</td>\n",
       "      <td>0 Novick Court</td>\n",
       "      <td>2828789390</td>\n",
       "      <td>6210552307</td>\n",
       "    </tr>\n",
       "    <tr>\n",
       "      <th>1</th>\n",
       "      <td>2</td>\n",
       "      <td>2022-07-14</td>\n",
       "      <td>23773</td>\n",
       "      <td>2493561865</td>\n",
       "      <td>Candelaria</td>\n",
       "      <td>6 Cherokee Parkway</td>\n",
       "      <td>6099742344</td>\n",
       "      <td>4084245844</td>\n",
       "    </tr>\n",
       "    <tr>\n",
       "      <th>2</th>\n",
       "      <td>3</td>\n",
       "      <td>2022-06-18</td>\n",
       "      <td>130501</td>\n",
       "      <td>2074029926</td>\n",
       "      <td>Ono</td>\n",
       "      <td>9348 Lunder Trail</td>\n",
       "      <td>3888799340</td>\n",
       "      <td>0449677117</td>\n",
       "    </tr>\n",
       "    <tr>\n",
       "      <th>3</th>\n",
       "      <td>4</td>\n",
       "      <td>2022-05-30</td>\n",
       "      <td>47882</td>\n",
       "      <td>8855966732</td>\n",
       "      <td>Brezovica</td>\n",
       "      <td>42249 Bowman Place</td>\n",
       "      <td>4471451603</td>\n",
       "      <td>1728199247</td>\n",
       "    </tr>\n",
       "    <tr>\n",
       "      <th>4</th>\n",
       "      <td>5</td>\n",
       "      <td>2022-06-18</td>\n",
       "      <td>96258</td>\n",
       "      <td>4596224197</td>\n",
       "      <td>test</td>\n",
       "      <td>03 Lyons Park</td>\n",
       "      <td>5493021312</td>\n",
       "      <td>4294842199</td>\n",
       "    </tr>\n",
       "  </tbody>\n",
       "</table>\n",
       "</div>"
      ],
      "text/plain": [
       "   id     created  created_amount  demand_gsm        city                town  \\\n",
       "0   1  2022-08-03           14136  8988047843    Jiang’an      0 Novick Court   \n",
       "1   2  2022-07-14           23773  2493561865  Candelaria  6 Cherokee Parkway   \n",
       "2   3  2022-06-18          130501  2074029926         Ono   9348 Lunder Trail   \n",
       "3   4  2022-05-30           47882  8855966732   Brezovica  42249 Bowman Place   \n",
       "4   5  2022-06-18           96258  4596224197        test       03 Lyons Park   \n",
       "\n",
       "     username        tckn  \n",
       "0  2828789390  6210552307  \n",
       "1  6099742344  4084245844  \n",
       "2  3888799340  0449677117  \n",
       "3  4471451603  1728199247  \n",
       "4  5493021312  4294842199  "
      ]
     },
     "execution_count": 85,
     "metadata": {},
     "output_type": "execute_result"
    }
   ],
   "source": [
    "response_credits.head()"
   ]
  },
  {
   "cell_type": "code",
   "execution_count": 60,
   "id": "e7880047-3e0f-413e-82ff-529226d1c45a",
   "metadata": {},
   "outputs": [],
   "source": [
    "credits_diff = response_credits[~response_credits.apply(tuple,1).isin(db_credits.apply(tuple,1))]"
   ]
  },
  {
   "cell_type": "code",
   "execution_count": 61,
   "id": "4832442d-4d1f-418a-a772-b1e6b83f5c46",
   "metadata": {},
   "outputs": [
    {
     "data": {
      "text/html": [
       "<div>\n",
       "<style scoped>\n",
       "    .dataframe tbody tr th:only-of-type {\n",
       "        vertical-align: middle;\n",
       "    }\n",
       "\n",
       "    .dataframe tbody tr th {\n",
       "        vertical-align: top;\n",
       "    }\n",
       "\n",
       "    .dataframe thead th {\n",
       "        text-align: right;\n",
       "    }\n",
       "</style>\n",
       "<table border=\"1\" class=\"dataframe\">\n",
       "  <thead>\n",
       "    <tr style=\"text-align: right;\">\n",
       "      <th></th>\n",
       "      <th>id</th>\n",
       "      <th>created</th>\n",
       "      <th>created_amount</th>\n",
       "      <th>demand_gsm</th>\n",
       "      <th>city</th>\n",
       "      <th>town</th>\n",
       "      <th>username</th>\n",
       "      <th>tckn</th>\n",
       "    </tr>\n",
       "  </thead>\n",
       "  <tbody>\n",
       "    <tr>\n",
       "      <th>1000</th>\n",
       "      <td>1001</td>\n",
       "      <td>2022-05-17</td>\n",
       "      <td>191970</td>\n",
       "      <td>8528855960</td>\n",
       "      <td>test</td>\n",
       "      <td>6031 Gale Alley</td>\n",
       "      <td>4174718589</td>\n",
       "      <td>7070702329</td>\n",
       "    </tr>\n",
       "  </tbody>\n",
       "</table>\n",
       "</div>"
      ],
      "text/plain": [
       "        id     created  created_amount  demand_gsm  city             town  \\\n",
       "1000  1001  2022-05-17          191970  8528855960  test  6031 Gale Alley   \n",
       "\n",
       "        username        tckn  \n",
       "1000  4174718589  7070702329  "
      ]
     },
     "execution_count": 61,
     "metadata": {},
     "output_type": "execute_result"
    }
   ],
   "source": [
    "credits_diff.head()"
   ]
  },
  {
   "cell_type": "code",
   "execution_count": 62,
   "id": "8fa97b6a-6ecb-4e92-aa6f-d24672e8f52d",
   "metadata": {
    "tags": []
   },
   "outputs": [],
   "source": [
    "engine.execute(\"USE credits\")\n",
    "conn = engine.connect()\n",
    "meta = sqlalchemy.MetaData()\n",
    "meta.reflect(engine, schema=\"credits\")"
   ]
  },
  {
   "cell_type": "code",
   "execution_count": 63,
   "id": "27e04de4-a911-429d-a9c0-e89899a25d97",
   "metadata": {},
   "outputs": [
    {
     "data": {
      "text/plain": [
       "dict_keys(['credits.credits'])"
      ]
     },
     "execution_count": 63,
     "metadata": {},
     "output_type": "execute_result"
    }
   ],
   "source": [
    "meta.tables.keys()"
   ]
  },
  {
   "cell_type": "code",
   "execution_count": 64,
   "id": "2bf56edd-4832-4ab8-a0ba-105020056fea",
   "metadata": {},
   "outputs": [],
   "source": [
    "credits_table = meta.tables[\"credits.credits\"] "
   ]
  },
  {
   "cell_type": "code",
   "execution_count": 65,
   "id": "6bfd5fb9-c434-485b-956b-667cf15f09a8",
   "metadata": {},
   "outputs": [
    {
     "data": {
      "text/plain": [
       "1"
      ]
     },
     "execution_count": 65,
     "metadata": {},
     "output_type": "execute_result"
    }
   ],
   "source": [
    "len(credits_diff)"
   ]
  },
  {
   "cell_type": "code",
   "execution_count": 66,
   "id": "229b2e53-fe39-4c27-ab93-0394f790fcfe",
   "metadata": {
    "tags": []
   },
   "outputs": [
    {
     "data": {
      "text/plain": [
       "True"
      ]
     },
     "execution_count": 66,
     "metadata": {},
     "output_type": "execute_result"
    }
   ],
   "source": [
    "credits_diff.iloc[0,7] in db_credits[\"tckn\"].values"
   ]
  },
  {
   "cell_type": "code",
   "execution_count": 67,
   "id": "31d8245d-431e-4e06-9c66-488bfe1d3fbb",
   "metadata": {},
   "outputs": [],
   "source": [
    "for i in range(len(credits_diff)):\n",
    "    try:\n",
    "        if credits_diff.iloc[i,7] in db_credits[\"tckn\"].values:\n",
    "            u = update(credits_table)\n",
    "            u = u.values(id=credits_diff.iloc[i,0], created=credits_diff.iloc[i,1], created_amount=credits_diff.iloc[i,2], demand_gsm=credits_diff.iloc[i,3], city=credits_diff.iloc[i,4], town=credits_diff.iloc[i,5], username=credits_diff.iloc[i,6], tckn=credits_diff.iloc[i,7])\n",
    "            u = u.where(credits_table.c.tckn == credits_diff.iloc[i,7])\n",
    "            engine.execute(u)\n",
    "        else:\n",
    "            ins = insert(credits_table)\n",
    "            ins = ins.values(id=credits_diff.iloc[i,0], created=credits_diff.iloc[i,1], created_amount=credits_diff.iloc[i,2], demand_gsm=credits_diff.iloc[i,3], city=credits_diff.iloc[i,4], town=credits_diff.iloc[i,5], username=credits_diff.iloc[i,6], tckn=credits_diff.iloc[i,7])\n",
    "            engine.execute(ins)\n",
    "    except exc.SQLAlchemyError as e:\n",
    "        query = insert(logs_table)\n",
    "        query = query.values(err_code=e.__dict__[\"code\"], err_statement=e.__dict__[\"statement\"], err_msg=e.__dict__[\"orig\"], err_occur_dt=datetime.now().strftime(\"%d/%m/%Y %H:%M:%S\"))\n",
    "        engine.execute(query)"
   ]
  }
 ],
 "metadata": {
  "kernelspec": {
   "display_name": "Python 3 (ipykernel)",
   "language": "python",
   "name": "python3"
  },
  "language_info": {
   "codemirror_mode": {
    "name": "ipython",
    "version": 3
   },
   "file_extension": ".py",
   "mimetype": "text/x-python",
   "name": "python",
   "nbconvert_exporter": "python",
   "pygments_lexer": "ipython3",
   "version": "3.7.11"
  }
 },
 "nbformat": 4,
 "nbformat_minor": 5
}
